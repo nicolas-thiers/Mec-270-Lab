{
 "cells": [
  {
   "cell_type": "markdown",
   "id": "a0b1c2d3",
   "metadata": {},
   "source": [
    "![image](./Images/logo-mecanica.png)"
   ]
  },
  {
   "cell_type": "markdown",
   "id": "1d6fe3a0",
   "metadata": {},
   "source": [
    "# Laboratorio 4: Resolución de ecuaciones no lineales"
   ]
  },
  {
   "cell_type": "markdown",
   "id": "03f5b62a-3d3a-4e6a-a864-1fd0fb5eb57f",
   "metadata": {},
   "source": [
    "Este notebook repasa los métodos numéricos de la bisección, Newton y la secante para encontrar las raíces de ecuaciones no lineales. Se incluye una breve revisión de la teoría y los algoritmos generales de cada método, seguida de ejercicios prácticos."
   ]
  },
  {
   "cell_type": "markdown",
   "id": "6da583d7",
   "metadata": {},
   "source": [
    "## 1. Repaso de la teoría"
   ]
  },
  {
   "cell_type": "markdown",
   "id": "066d3667-b579-4d70-a4dc-880bda18810d",
   "metadata": {},
   "source": [
    "**Problema General:** Encontrar la raíz $\\vec{x}^*$ de una ecuación no lineal de la forma $f(\\vec{x}) = \\vec{0}$. \n",
    "\n",
    "En el caso unidimensional ($N=1$), el problema se reduce a encontrar $x^*$ tal que $f(x^*) = 0$.\n",
    "\n",
    "<p align=\"center\">\n",
    "    <img src=\"./Images/nonLinFunc.svg\" alt=\"drawing\" width=\"500\"/>\n",
    "</p>"
   ]
  },
  {
   "cell_type": "markdown",
   "id": "6b471030",
   "metadata": {},
   "source": [
    "### 1.1 Método de la Bisección"
   ]
  },
  {
   "cell_type": "markdown",
   "id": "3cc8bf1a-c83b-4c81-805b-85dd75baaa83",
   "metadata": {},
   "source": [
    "El método de la bisección se aplica a una función continua $f(x)$ en un intervalo $[a, b]$ donde $f(a)f(b) < 0$. Esta condición asegura, por el Teorema del Valor Intermedio, que existe al menos una raíz en el intervalo. \n",
    "\n",
    "El método reduce iterativamente el tamaño del intervalo, dividiéndolo por la mitad y seleccionando el sub intervalo donde la función cambia de signo. \n",
    "\n",
    "La convergencia del método es lineal, y el error se reduce a la mitad en cada iteración. \n",
    "\n",
    "El número de iteraciones necesarias para alcanzar una tolerancia $tol$ se puede estimar mediante la fórmula: $$\\log_2(\\frac{b-a}{tol})$$\n",
    "\n",
    "**Algoritmo General:**\n",
    "1. Dado un intervalo $[a, b]$ y una tolerancia $tol$.\n",
    "2. Mientras $(b - a) > tol$:\n",
    "   \n",
    "   a. Calcular el punto medio: $mid = a + (b - a) / 2$.\n",
    "   \n",
    "   b. Si $sign(f(mid)) == sign(f(a))$, entonces la raíz está en $[mid, b]$, por lo tanto, $a = mid$.\n",
    "   \n",
    "   c. Si no, la raíz está en $[a, mid]$, por lo tanto, $b = mid$.\n",
    "\n",
    "   d. Volver al punto 2.\n",
    "   \n",
    "4. El punto medio del último intervalo $[a, b]$ es una aproximación de la raíz.\n",
    "\n",
    "<p align=\"center\">\n",
    "    <img src=\"./Images/bisection-00.svg\" alt=\"drawing\" width=\"500\"/>\n",
    "</p>"
   ]
  },
  {
   "cell_type": "code",
   "execution_count": null,
   "id": "87a69ab6-84a3-43d3-9605-ef24669706a6",
   "metadata": {},
   "outputs": [],
   "source": [
    "### def Biseccion(f_,a_,b_,tol_=1e-6):\n",
    "###     return xHat"
   ]
  },
  {
   "cell_type": "markdown",
   "id": "2ed96254",
   "metadata": {},
   "source": [
    "### 1.2 Método de Newton (Newton-Raphson)"
   ]
  },
  {
   "cell_type": "markdown",
   "id": "9a0e0f90-ee66-42d1-944d-d2d732d56789",
   "metadata": {},
   "source": [
    "El método de Newton se basa en la expansión en serie de Taylor de primer orden de la función $f(x)$ alrededor de una aproximación inicial $x_0$: $f(x) ≈ f(x_0) + f'(x_0)(x - x_0)$. Se busca la raíz de esta aproximación lineal, lo que lleva a la fórmula iterativa:\n",
    "$$x_{k+1} = x_k - \\frac{f(x_k)}{f'(x_k)}$$\n",
    "\n",
    "Geométricamente, $x_{k+1}$ es la intersección de la tangente a la curva $f(x)$ en el punto $(x_k, f(x_k))$ con el eje x. Para raíces simples, el método de Newton tiene una convergencia cuadrática local, lo que significa que el error se eleva al cuadrado en cada iteración. Para raíces múltiples de multiplicidad $m$, la convergencia es lineal con una constante de error $C = 1 - 1/m$. \n",
    "\n",
    "La convergencia del método depende de la elección del punto inicial $x_0$.\n",
    "\n",
    "**Algoritmo General:**\n",
    "1. Dado un valor inicial $x_0$ y una tolerancia $tol$.\n",
    "   \n",
    "2. Mientras que $|f(x_k)| > tol$ (u otro criterio de parada):\n",
    "\n",
    "   a. Calcular $f(x_k)$ y $f'(x_k)$.\n",
    "\n",
    "   b. Actualizar la aproximación: $x_{k+1} = x_k - f(x_k) / f'(x_k)$.\n",
    "\n",
    "   c. $k = k + 1$.\n",
    "\n",
    "   d. Volver al punto 2.\n",
    "\n",
    "5. $x_k$ es una aproximación de la raíz.\n",
    "\n",
    "<p align=\"center\">\n",
    "    <img src=\"./Images/newtonRaphson-f3-00.svg\" alt=\"drawing\" width=\"500\"/>\n",
    "</p>"
   ]
  },
  {
   "cell_type": "code",
   "execution_count": null,
   "id": "1d5c3d7a-8eeb-401a-b174-4c7cb5668c43",
   "metadata": {},
   "outputs": [],
   "source": [
    "### def Newton(f_,df_,x0_,tol_=1e-6):\n",
    "###     return xHat"
   ]
  },
  {
   "cell_type": "markdown",
   "id": "122472eb",
   "metadata": {},
   "source": [
    "### 1.3 Método de la Secante"
   ]
  },
  {
   "cell_type": "markdown",
   "id": "41c36730-aba0-4f95-8549-88633fa2a120",
   "metadata": {},
   "source": [
    "El método de la secante es una variante del método de Newton que aproxima la derivada $f'(x_k)$ utilizando una diferencia finita basada en dos puntos anteriores, $x_k$ y $x_{k-1}$:\n",
    "$$f'(x_k) ≈ \\frac{f(x_k) - f(x_{k-1})}{x_k - x_{k-1}}$$\n",
    "Sustituyendo esta aproximación en la fórmula del método de Newton, se obtiene la fórmula iterativa del método de la secante:\n",
    "$$x_{k+1} = x_k - f(x_k) \\frac{x_k - x_{k-1}}{f(x_k) - f(x_{k-1})}$$\n",
    "Geométricamente, $x_{k+1}$ es la intersección con el eje x de la recta secante que pasa por los puntos $(x_{k-1}, f(x_{k-1}))$ y $(x_k, f(x_k))$. El método de la secante no requiere el cálculo explícito de la derivada. Su tasa de convergencia es superlineal, aproximadamente $\\phi ≈ 1.618$ (la proporción áurea), que es más rápida que la convergencia lineal del método de la bisección, pero más lenta que la convergencia cuadrática del método de Newton.\n",
    "\n",
    "**Algoritmo General:**\n",
    "1. Dados dos valores iniciales $x_0$ y $x_1$, y una tolerancia $tol$.\n",
    "   \n",
    "2. Mientras que $|f(x_k)| > tol$ (u otro criterio de parada):\n",
    "\n",
    "   a. Calcular $f(x_k)$ y $f(x_{k-1})$.\n",
    "\n",
    "   b. Actualizar la aproximación: $x_{k+1} = x_k - f(x_k) (x_k - x_{k-1}) / (f(x_k) - f(x_{k-1}))$.\n",
    "\n",
    "   c. $x_{k-1} = x_k$.\n",
    "\n",
    "   d. $x_k = x_{k+1}$.\n",
    "\n",
    "   e. $k = k + 1$.\n",
    "\n",
    "   f. Volver al punto 2.\n",
    "\n",
    "4. $x_k$ es una aproximación de la raíz.\n",
    "\n",
    "<p align=\"center\">\n",
    "    <img src=\"./Images/secante-f3-00.svg\" alt=\"drawing\" width=\"500\"/>\n",
    "</p>"
   ]
  },
  {
   "cell_type": "code",
   "execution_count": null,
   "id": "05550c17-1079-4ef2-a52a-5cdcf653216e",
   "metadata": {},
   "outputs": [],
   "source": [
    "### def Secante(f_,x0_,x1_,tol_=1e-6):\n",
    "###     return xHat"
   ]
  },
  {
   "cell_type": "markdown",
   "id": "0fc62ef1",
   "metadata": {},
   "source": [
    "## 2. Perdida de carga en tuberias"
   ]
  },
  {
   "cell_type": "markdown",
   "id": "58788e9f-9d54-427e-b7a7-3a8748973883",
   "metadata": {},
   "source": [
    "Utilizaremos los métodos previos para calcular coeficientes de fricción para pérdida de carga en tuberías utilizando la ecuación de Colebrook–White, formula basada en mediciones experimentales para flujos turbulentos en tuberías con rugosidad interna.\n",
    "\n",
    "La ecuación de Colebrook–White es la siguiente:\n",
    "$$\\frac{1}{\\sqrt{f}} = -2 \\log_{10}\\left(\\frac{\\varepsilon}{3.7} + \\frac{2.51}{Re\\sqrt{f}}\\right)$$\n",
    "\n",
    "Donde:\n",
    "- $f$ es el coeficiente de fricción.\n",
    "- $\\varepsilon$ es la rugosidad relativa de la tubería.\n",
    "- $Re$ es el número de Reynolds de la tubería.\n",
    "\n",
    "Realice un gráfico del coeficiente de fricción $f$ respecto al número de Reynolds para valores entre $[4\\times10^3,10^6]$ para los valores de rugosidad superficial $\\varepsilon= {10^{-2},10^{-3},10^{-4}}$"
   ]
  },
  {
   "cell_type": "code",
   "execution_count": null,
   "id": "6a5f7111-4eae-464d-8e59-581031eeb368",
   "metadata": {},
   "outputs": [],
   "source": [
    "### "
   ]
  }
 ],
 "metadata": {
  "kernelspec": {
   "display_name": "Python 3 (ipykernel)",
   "language": "python",
   "name": "python3"
  },
  "language_info": {
   "codemirror_mode": {
    "name": "ipython",
    "version": 3
   },
   "file_extension": ".py",
   "mimetype": "text/x-python",
   "name": "python",
   "nbconvert_exporter": "python",
   "pygments_lexer": "ipython3",
   "version": "3.13.3"
  }
 },
 "nbformat": 4,
 "nbformat_minor": 5
}
