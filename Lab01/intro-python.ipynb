{
 "cells": [
  {
   "cell_type": "markdown",
   "id": "70235975-7602-4e88-ac4c-4725270d36bd",
   "metadata": {},
   "source": [
    "![image](https://mecanica.usm.cl/wp-content/uploads/2021/12/logo-mecanica.png)"
   ]
  },
  {
   "cell_type": "markdown",
   "id": "1e8718eb-3a8e-4b23-a5be-f08fb72ac22b",
   "metadata": {},
   "source": [
    "# Laboratorio 1: Repasando conceptos básicos de python\n",
    "Bienvenidos al primer laboratorio de Métodos numéricos en Ingeniería mecánica. En este laboratorio repasaremos conceptos básicos de Python, un lenguaje de programación muy popular en la actualidad. \n",
    "\n",
    "El objetivo de esta primera sesión es que se familiaricen con el entorno de trabajo y con la sintaxis básica de Python. \n",
    "\n",
    "Python es un lenguaje de programación de alto nivel, interpretado y con una sintaxis muy clara y legible. Es un lenguaje de programación muy versátil y fácil de implementar en diferentes áreas de la ingeniería."
   ]
  },
  {
   "cell_type": "markdown",
   "id": "b792dd70-47f1-43c3-98e2-1fc3dc56b3c0",
   "metadata": {},
   "source": [
    "## 1.- Conceptos básicos"
   ]
  },
  {
   "cell_type": "markdown",
   "id": "bdef51d7-180a-47a7-bae2-55b5875a5e32",
   "metadata": {},
   "source": [
    "### 1.1.- Variables\n",
    "Una variable es un espacio en la memoria del ordenador destinado a almacenar un dato.\n",
    "En otros lenguajes de programación como C, C++ o Fortran, por nombrar algunos, es necesario declarar el tipo de variable al momento de crearla.\n",
    "```\n",
    "i,j,k : int\n",
    "\n",
    "x,y,z : float\n",
    "\n",
    "c : char\n",
    "```\n",
    "\n",
    "En Python, por el contrario, no es necesario declarar el tipo de variable al momento de crearla, el intérprete de Python se encarga de asignar el tipo de variable automáticamente."
   ]
  },
  {
   "cell_type": "code",
   "execution_count": null,
   "id": "eb8a0781-7f4c-4774-a27e-0e65f344eea8",
   "metadata": {},
   "outputs": [],
   "source": [
    "i = 1\n",
    "j = 2\n",
    "pi = 3.1415\n",
    "word = \"Hello world\""
   ]
  },
  {
   "cell_type": "code",
   "execution_count": null,
   "id": "92900fac-8dd9-425b-af80-02f3b53b9d12",
   "metadata": {},
   "outputs": [],
   "source": [
    "print(i)\n",
    "print(j)\n",
    "print(pi)\n",
    "print(word)"
   ]
  },
  {
   "cell_type": "code",
   "execution_count": null,
   "id": "1f840b32-c8a2-4225-a603-8025d7b76a65",
   "metadata": {},
   "outputs": [],
   "source": [
    "type(i)"
   ]
  },
  {
   "cell_type": "code",
   "execution_count": null,
   "id": "f1295362-b513-4159-b77c-abfa161b6094",
   "metadata": {},
   "outputs": [],
   "source": [
    "type(pi)"
   ]
  },
  {
   "cell_type": "code",
   "execution_count": null,
   "id": "88e3e70b-f003-45a9-badf-300281081257",
   "metadata": {},
   "outputs": [],
   "source": [
    "type(word)"
   ]
  },
  {
   "cell_type": "markdown",
   "id": "5f37247a-ee14-458a-afe3-3feb20f4be06",
   "metadata": {},
   "source": [
    "Como no necesitamos declarar el tipo de variable al momento de crearla, hay que tener cuidado con la asignación automática que realiza Python de estas, puede ser que necesitemos crear una variable de tipo flotante, pero Python la asigne a un tipo integer\n",
    "\n",
    "Supongamos que necesitamos crear una variable ''delta'' en la que queremos almacenar una distancia, por lo que necesitamos que sea de tipo flotante. Si creamos la variable de la siguiente manera:"
   ]
  },
  {
   "cell_type": "code",
   "execution_count": null,
   "id": "06fa2f7a-f84e-46e2-b809-d74120ec92ef",
   "metadata": {},
   "outputs": [],
   "source": [
    "delta = 1"
   ]
  },
  {
   "cell_type": "code",
   "execution_count": null,
   "id": "4aef59d6-9995-4ff0-8c5e-47f21fd5d144",
   "metadata": {},
   "outputs": [],
   "source": [
    "type(delta)"
   ]
  },
  {
   "cell_type": "markdown",
   "id": "5ae55fb1-8a34-450b-980f-cd458929f28d",
   "metadata": {},
   "source": [
    "Podemos ver que Python asigna automáticamente el tipo de variable a integer, pues está interpretando nuestro input como un número entero. Para que Python asigne el tipo de variable correcto, debemos declarar la variable de la siguiente manera:\n"
   ]
  },
  {
   "cell_type": "code",
   "execution_count": null,
   "id": "d539c859-c3b3-4218-b8bb-930446cb33d0",
   "metadata": {},
   "outputs": [],
   "source": [
    "delta = 1.0"
   ]
  },
  {
   "cell_type": "code",
   "execution_count": null,
   "id": "6d3eb7b0-ae3c-4a03-b4e8-ac24fd6226d7",
   "metadata": {},
   "outputs": [],
   "source": [
    "type(delta)"
   ]
  },
  {
   "cell_type": "code",
   "execution_count": null,
   "id": "e7027304-a64c-46cf-bf7c-e68c0def4f46",
   "metadata": {},
   "outputs": [],
   "source": [
    "delta = float(1)"
   ]
  },
  {
   "cell_type": "code",
   "execution_count": null,
   "id": "ecb0161b-4f95-4b26-a179-2b75bff68fd8",
   "metadata": {},
   "outputs": [],
   "source": [
    "type(delta)"
   ]
  },
  {
   "cell_type": "markdown",
   "id": "98960062-7596-409d-8889-6eb386800c7d",
   "metadata": {},
   "source": [
    "Existe un tipo de variable utilizada para comprobar operaciones lógicas llamadas **boolean**; estas variables solo tienen dos posibles valores: ```True``` o ```False```"
   ]
  },
  {
   "cell_type": "code",
   "execution_count": null,
   "id": "68241487-6d0d-4382-9cd7-ac21b69940ab",
   "metadata": {},
   "outputs": [],
   "source": [
    "Test1 = True\n",
    "type(Test1)"
   ]
  },
  {
   "cell_type": "code",
   "execution_count": null,
   "id": "88c5d657-47e1-49f6-9a75-579f7f555457",
   "metadata": {},
   "outputs": [],
   "source": [
    "Test2 = bool(True)"
   ]
  },
  {
   "cell_type": "code",
   "execution_count": null,
   "id": "341f9a26-2b0a-4228-a591-1f40dcac302a",
   "metadata": {},
   "outputs": [],
   "source": [
    "Test2"
   ]
  },
  {
   "cell_type": "markdown",
   "id": "036ee0a6-48c9-47d6-bb5a-db38daa0a21c",
   "metadata": {},
   "source": [
    "Otro tipo de variable que vamos a utilizar bastante son los arreglos. Un arreglo es una estructura fundamental de datos en Python que nos permite almacenar más de un dato al mismo tiempo."
   ]
  },
  {
   "cell_type": "code",
   "execution_count": null,
   "id": "5651f71f-eddd-4990-bd4f-67f2ddd92e10",
   "metadata": {},
   "outputs": [],
   "source": [
    "myArray = [1,10,23,-3]"
   ]
  },
  {
   "cell_type": "code",
   "execution_count": null,
   "id": "f723c5bb-d6c0-45b8-b3b0-ca22e7b741d4",
   "metadata": {},
   "outputs": [],
   "source": [
    "print(myArray)"
   ]
  },
  {
   "cell_type": "markdown",
   "id": "b78cf771-f9c8-4d24-8c80-3e8f42845e6e",
   "metadata": {},
   "source": [
    "Podemos entender los arreglos como \"vectores\" donde almacenaremos la información en las distintas componentes del vector.\n",
    "Podemos acceder a los datos almacenados en estas componentes especificando la \"posición\" dentro del arreglo:"
   ]
  },
  {
   "cell_type": "code",
   "execution_count": null,
   "id": "7fa50017-cb59-4fa0-84ae-d9541c75b80c",
   "metadata": {},
   "outputs": [],
   "source": [
    "print(myArray[2])"
   ]
  },
  {
   "cell_type": "code",
   "execution_count": null,
   "id": "c0398961-b68b-4780-b746-78d0903f4e92",
   "metadata": {},
   "outputs": [],
   "source": [
    "print(myArray[1])"
   ]
  },
  {
   "cell_type": "code",
   "execution_count": null,
   "id": "92822ba9-98ef-49fe-b783-262d332962ad",
   "metadata": {},
   "outputs": [],
   "source": [
    "print(myArray[1:3])"
   ]
  },
  {
   "cell_type": "markdown",
   "id": "5dae3d17-0bbc-4513-b265-f0793f7c33ab",
   "metadata": {},
   "source": [
    "Podemos acceder también a los elementos del arreglo, especificando las coordenadas relativas desde el final"
   ]
  },
  {
   "cell_type": "code",
   "execution_count": null,
   "id": "76aa1db9-e871-4c0c-a95c-f4985fe0da2f",
   "metadata": {},
   "outputs": [],
   "source": [
    "print(myArray[-1])"
   ]
  },
  {
   "cell_type": "markdown",
   "id": "98129527-41bd-4e0e-a733-33f2b4828298",
   "metadata": {},
   "source": [
    "Vemos que el vector creado posee cuatro elementos, intentemos acceder a la información almacenada en esta posición"
   ]
  },
  {
   "cell_type": "code",
   "execution_count": null,
   "id": "fce3cb5c-284b-4430-bf27-97aee84dbca6",
   "metadata": {},
   "outputs": [],
   "source": [
    "print(myArray[4])"
   ]
  },
  {
   "cell_type": "markdown",
   "id": "97b9c169-34f5-488b-b0d3-784b16d77893",
   "metadata": {},
   "source": [
    "Nos aparece un mensaje de error. Es importante que seamos capaces de leer los mensajes de error en nuestro código y entender qué es lo que estamos haciendo mal. \n",
    "\n",
    "Lo primero que debemos analizar es el tipo de error que se está generando, en este caso es un error de tipo ```IndexError```. Este error guarda relación con el índice que le estamos ingresando a nuestro arreglo. Si vemos la última línea del mensaje de error, nos dice que el *índice está fuera de rango*.\n",
    "\n",
    "¿Por qué ocurre esto si sabemos que nuestro arreglo tiene 4 elementos y estamos intentando acceder al elemento de índice 4?\n",
    "\n",
    "Veamos que está almacenado en el primer elemento del arreglo..."
   ]
  },
  {
   "cell_type": "code",
   "execution_count": null,
   "id": "5bb1ae34-7b47-4019-91d8-d11641172f34",
   "metadata": {},
   "outputs": [],
   "source": [
    "print(myArray)\n",
    "print(myArray[3])"
   ]
  },
  {
   "cell_type": "markdown",
   "id": "1b2ccb43-8381-4d48-ac0c-d01d9fba4cbe",
   "metadata": {},
   "source": [
    "¿Ven el problema?\n",
    "\n",
    "Las coordenadas de los arreglos en Python comienzan por el índice 0, por lo que, si bien nuestro arreglo tiene 4 elementos (largo 4), las coordenadas de estos son 0, 1, 2 y 3. Es por esto que anteriormente nos aparece el error de índice cuando intentamos acceder a un elemento almacenado en la coordenada 4.\n",
    "\n",
    "\n",
    "Podemos crear arreglos para almacenar variables de tipo entero, flotante y strings, pero también podemos crear arreglos de arreglos:"
   ]
  },
  {
   "cell_type": "code",
   "execution_count": null,
   "id": "df43c8e1-c585-43e5-80c8-f333aa686b3c",
   "metadata": {},
   "outputs": [],
   "source": [
    "A = [['a','b','c'],\n",
    "     ['d','e','f'],\n",
    "     ['g','h','i']]"
   ]
  },
  {
   "cell_type": "code",
   "execution_count": null,
   "id": "e23774c9-4025-45ed-bacf-3ddc163ece03",
   "metadata": {},
   "outputs": [],
   "source": [
    "print(A[0])"
   ]
  },
  {
   "cell_type": "code",
   "execution_count": null,
   "id": "60235de8-7f35-46b7-8d71-07c22d02fc25",
   "metadata": {},
   "outputs": [],
   "source": [
    "print(A[0][2])"
   ]
  },
  {
   "cell_type": "markdown",
   "id": "d0b8f513-8432-4d95-b0fc-f8a15cb71240",
   "metadata": {},
   "source": [
    "En Python debemos tener cuidado cuando realizamos *copias* de las variables. Utilizando nuestra lógica crearemos una copia de una variable por medio del operador **=**; sin embargo, lo que realmente hace este operador es crear una referencia a la variable original, no una copia propiamente tal. Esto quiere decir que nuestra mal llamada *copia* reflejara cualquier cambio futuro que experimente la variable original, pues no es un *objeto* nuevo independiente de la variable copiada"
   ]
  },
  {
   "cell_type": "code",
   "execution_count": null,
   "id": "501be7a4-204b-4a86-a75c-e484007d8f37",
   "metadata": {},
   "outputs": [],
   "source": [
    "a = [0,1,0,3]\n",
    "b = a\n",
    "print(a)\n",
    "print(b)"
   ]
  },
  {
   "cell_type": "code",
   "execution_count": null,
   "id": "b55b7b02-d3bd-45c1-a632-314a6f3b34ac",
   "metadata": {},
   "outputs": [],
   "source": [
    "a[2]='c'\n",
    "print(a)\n",
    "print(b)"
   ]
  },
  {
   "cell_type": "markdown",
   "id": "9a2d67b9-b5b5-4ec7-9fa8-690f7d015e53",
   "metadata": {},
   "source": [
    "Para crear una **copia** de la variable que realmente sea independiente de esta, utilizaremos el método **copy**"
   ]
  },
  {
   "cell_type": "code",
   "execution_count": null,
   "id": "ae2029f5-12d1-4f73-99e3-ad66af635ac7",
   "metadata": {},
   "outputs": [],
   "source": [
    "a = [0,1,0,3]\n",
    "b = a.copy()\n",
    "print(a)\n",
    "print(b)"
   ]
  },
  {
   "cell_type": "code",
   "execution_count": null,
   "id": "5f7895d3-62dd-4c78-b1bf-6740f453c802",
   "metadata": {},
   "outputs": [],
   "source": [
    "a[2]='c'\n",
    "print(a)\n",
    "print(b)"
   ]
  },
  {
   "cell_type": "markdown",
   "id": "5528dc4b-d0a2-4f8e-b2dc-1c10d107a87c",
   "metadata": {},
   "source": [
    "### 1.2.- Operando con las variables"
   ]
  },
  {
   "cell_type": "markdown",
   "id": "87c14a4e-28a2-46ca-8bd1-4c5b32017760",
   "metadata": {},
   "source": [
    "En Python podemos realizar las operaciones matemáticas tal y como estamos acostumbrados"
   ]
  },
  {
   "cell_type": "code",
   "execution_count": null,
   "id": "0d9db730-439a-479d-8f26-59fb48306ad1",
   "metadata": {},
   "outputs": [],
   "source": [
    "a = 10.0\n",
    "b = -2.71\n",
    "c = a-b"
   ]
  },
  {
   "cell_type": "code",
   "execution_count": null,
   "id": "02b70f47-da14-4b77-bbb9-45a5fd6b3cdc",
   "metadata": {},
   "outputs": [],
   "source": [
    "print(c)"
   ]
  },
  {
   "cell_type": "code",
   "execution_count": null,
   "id": "a572fcd1-a638-476e-83ff-91b6b78e640b",
   "metadata": {},
   "outputs": [],
   "source": [
    "c = a*b\n",
    "print(c)"
   ]
  },
  {
   "cell_type": "code",
   "execution_count": null,
   "id": "923aa6bd-8838-4e12-8f65-bb2a1e212ae0",
   "metadata": {},
   "outputs": [],
   "source": [
    "c = a/b\n",
    "print(c)"
   ]
  },
  {
   "cell_type": "markdown",
   "id": "cf643876-2e72-4afe-8579-51d575e81a34",
   "metadata": {},
   "source": [
    "Cuando dividimos números en Python, hay que prestar atención al tipo de variable que estamos creando. Como no estamos obligados a declarar los tipos de las variables, podemos cometer errores al pensar que estamos creando variables de tipo entero, sin embargo, Python las está interpretando \"erróneamente\" como flotantes."
   ]
  },
  {
   "cell_type": "code",
   "execution_count": null,
   "id": "17383ee9-f885-4514-af95-22f2c1f554f1",
   "metadata": {},
   "outputs": [],
   "source": [
    "a = 10\n",
    "b = 2\n",
    "print(\"tipo de a: {}\".format(type(a)))\n",
    "print(\"tipo de b: {}\".format(type(b)))"
   ]
  },
  {
   "cell_type": "code",
   "execution_count": null,
   "id": "6d1ba163-f945-4c39-887f-ebcceac257cd",
   "metadata": {},
   "outputs": [],
   "source": [
    "c = a/b\n",
    "print(c)\n",
    "print(\"tipo de c: {}\".format(type(c)))"
   ]
  },
  {
   "cell_type": "markdown",
   "id": "4062aa75-b694-434d-ac93-5542ef0d61b5",
   "metadata": {},
   "source": [
    "Estamos operando con dos variables de tipo entero, pero se está asignando automáticamente a nuestra nueva variable \"c\" el tipo flotante.\n",
    "Esto ocurre por la interpretación que hace Python de la operación división. Podemos forzar el tipo de la variable especificándola junto con la operación"
   ]
  },
  {
   "cell_type": "code",
   "execution_count": null,
   "id": "4a272b50-12cd-4abf-9fa2-8ec45d8a4257",
   "metadata": {},
   "outputs": [],
   "source": [
    "c = int(a/b)\n",
    "print(c)\n",
    "print(\"tipo de c: {}\".format(type(c)))"
   ]
  },
  {
   "cell_type": "markdown",
   "id": "3239623c-80bb-443b-9793-db53831880ac",
   "metadata": {},
   "source": [
    "Pero también podemos utilizar la operación \"división entera\""
   ]
  },
  {
   "cell_type": "code",
   "execution_count": null,
   "id": "f44b4f8b-fcb2-4dd4-bb8c-58155d8639b0",
   "metadata": {},
   "outputs": [],
   "source": [
    "c = a//b\n",
    "print(c)\n",
    "print(\"tipo de c: {}\".format(type(c)))"
   ]
  },
  {
   "cell_type": "markdown",
   "id": "fda10d5f-4be7-4faa-b66a-8d0a8def8c28",
   "metadata": {},
   "source": [
    "Para trabajar con potencias, la nomenclatura es distinta a la que estamos acostumbrados:"
   ]
  },
  {
   "cell_type": "code",
   "execution_count": null,
   "id": "14346cfb-9a62-4e6a-bf61-f4ec6d4d15fc",
   "metadata": {},
   "outputs": [],
   "source": [
    "a = 2^3\n",
    "print(a)"
   ]
  },
  {
   "cell_type": "markdown",
   "id": "37781389-6ab1-48d4-83cc-d94256391dde",
   "metadata": {},
   "source": [
    "El operador **^** en Python está reservado como el operador *bitwise* ```XOR```.\n",
    "\n",
    "Para calcular potencias debemos utilizar el operador **"
   ]
  },
  {
   "cell_type": "code",
   "execution_count": null,
   "id": "984b282a-072d-4337-b82b-8cc81326c20e",
   "metadata": {},
   "outputs": [],
   "source": [
    "print(2**3)"
   ]
  },
  {
   "cell_type": "markdown",
   "id": "bf396eb9-bf02-4673-bd35-dc876c11f102",
   "metadata": {},
   "source": [
    "Otras operaciones que nos pueden resultar útiles son las relacionadas con las variables de tipo arreglo:\n",
    "\n",
    "Si queremos consultar el largo de un arreglo, utilizaremos la función ```len```"
   ]
  },
  {
   "cell_type": "code",
   "execution_count": null,
   "id": "1dfd92e0-d817-42e0-9441-99642fed341c",
   "metadata": {},
   "outputs": [],
   "source": [
    "x = len(myArray)\n",
    "print(x)"
   ]
  },
  {
   "cell_type": "code",
   "execution_count": null,
   "id": "8b1f4f59-1d45-4a26-8361-2eb73d914895",
   "metadata": {},
   "outputs": [],
   "source": [
    "print(myArray)"
   ]
  },
  {
   "cell_type": "markdown",
   "id": "696dfbee-3e38-4cb2-ba2a-7787c9100e1c",
   "metadata": {},
   "source": [
    "Si necesitamos anexar un nuevo elemento a nuestro arreglo al final de este utilizaremos el método ```append```"
   ]
  },
  {
   "cell_type": "code",
   "execution_count": null,
   "id": "92e1b183-e813-4fab-92a4-90b2681118a0",
   "metadata": {},
   "outputs": [],
   "source": [
    "myArray.append('a')\n",
    "print(myArray)\n",
    "print(x)"
   ]
  },
  {
   "cell_type": "markdown",
   "id": "558aad08-7914-4cdb-8fba-083d6402250d",
   "metadata": {},
   "source": [
    "si, por el contrario, necesitamos insertar un elemento en alguna posición arbitraria, utilizaremos el método ```insert```"
   ]
  },
  {
   "cell_type": "code",
   "execution_count": null,
   "id": "da4f05de-091d-4fd4-8ae1-80a8705b84ec",
   "metadata": {},
   "outputs": [],
   "source": [
    "myArray.insert(7,'z')\n",
    "print(myArray)"
   ]
  },
  {
   "cell_type": "markdown",
   "id": "c4499b44-ae0a-4f86-a206-0c0541b45410",
   "metadata": {},
   "source": [
    "### 1.3.- Estructuras de control\n",
    "\n",
    "Para controlar el flujo de trabajo de nuestro algoritmo utilizaremos bloques lógicos de control. Estos bloques nos permiten ejecutar ciertas instrucciones solo si se cumple una condición o repetir ciertas instrucciones un número determinado de veces. Existen varios tipos de estructuras de control; sin embargo, nos enfocaremos en los más básicos para nuestro curso:"
   ]
  },
  {
   "cell_type": "markdown",
   "id": "e7803c3f-c33e-4733-a128-0ffe9dd16823",
   "metadata": {},
   "source": [
    "#### **Selección**\n",
    "\n",
    "Los bloques de selección nos permiten ejecutar ciertas instrucciones solo si se cumplen las condiciones especificadas. La evaluación lógica de la condición retorna una variable booleana y el bloque de control determinará el flujo del código en función del valor lógico de esta booleana.\n",
    "\n",
    "El bloque de selección más básico es el *if*\n",
    "\n",
    "![image](https://www.educative.io/api/edpresso/shot/5593231642329088/image/4830765219840000?page_type=collection_lesson)\n",
    "\n",
    "*Imagen tomada de https://www.educative.io/answers/what-are-control-flow-statements-in-python*"
   ]
  },
  {
   "cell_type": "code",
   "execution_count": null,
   "id": "490eb312-7b01-4b78-91c4-fbeb61259c28",
   "metadata": {},
   "outputs": [],
   "source": [
    "a = 10\n",
    "threshold = 20\n",
    "if (a > threshold):\n",
    "    print('Se cumple la condicion')\n",
    "else:\n",
    "    print('No se cumple la condicion')\n",
    "\n",
    "test = (not(a>threshold))\n",
    "print(test)"
   ]
  },
  {
   "cell_type": "markdown",
   "id": "d259c9dc-cfc3-4227-9c8d-2b906718c54f",
   "metadata": {},
   "source": [
    "#### **Repetición**\n",
    "Los bloques de repetición nos permiten repetir la ejecución de ciertas instrucciones en función de alguna condición especificada.\n",
    "\n",
    "Dentro de los bloques de selecciones básicos tenemos el bloque **while** y el bloque **for**\n",
    "\n",
    "![image](https://www.educative.io/api/edpresso/shot/5593231642329088/image/4696585072803840?page_type=collection_lesson)\n",
    "![image](https://www.educative.io/api/edpresso/shot/5593231642329088/image/6524338646548480?page_type=collection_lesson)\n",
    "\n",
    "*Imagen tomada de https://www.educative.io/answers/what-are-control-flow-statements-in-python*"
   ]
  },
  {
   "cell_type": "code",
   "execution_count": null,
   "id": "486d2757-fa26-4840-95a2-088b88862204",
   "metadata": {},
   "outputs": [],
   "source": [
    "for i in range(5):\n",
    "    print(i)"
   ]
  },
  {
   "cell_type": "code",
   "execution_count": null,
   "id": "73183cae-0b1d-4903-82a1-0b12849f1a1d",
   "metadata": {},
   "outputs": [],
   "source": [
    "i = 0\n",
    "while (i<5):\n",
    "    print(i)\n",
    "    i+=1"
   ]
  },
  {
   "cell_type": "markdown",
   "id": "9ae41ea9-a443-44cf-adc3-e44bd4fdbdc8",
   "metadata": {},
   "source": [
    "A diferencia de otros lenguajes de programación en los que es necesario indicar el final de las estructuras de control utilizando *scopes* ```{}``` o palabras claves como ```endif```, en Python los bloques se delimitan utilizando la **indentacion** del código:"
   ]
  },
  {
   "cell_type": "code",
   "execution_count": null,
   "id": "36d5c6b8-e570-41d7-a780-5df6f8efa58f",
   "metadata": {},
   "outputs": [],
   "source": [
    "for i in range(5):\n",
    "    for j in range(5):\n",
    "        print(i,j)\n",
    "    print('fin del ciclo for para \"j\"')\n",
    "print('fin del ciclo for para \"i\"')"
   ]
  },
  {
   "cell_type": "markdown",
   "id": "a4f05977-c2dc-4fee-8e17-4800b8d7d526",
   "metadata": {},
   "source": [
    "### 1.4.- Librerías externas"
   ]
  },
  {
   "cell_type": "markdown",
   "id": "140bb81b-182d-43c4-9109-1b304c844b33",
   "metadata": {},
   "source": [
    "Python es un lenguaje de alto nivel de abstracción, lleno de paquetes y librerías que nos facilitan las cosas. Podemos pensar en una librería como un conjunto de códigos con nuevas *variables* y *funciones* que podemos importar a nuestro código y utilizar como si las hubiésemos programado directamente en nuestro código.\n",
    "\n",
    "Existen múltiples librerías para diferentes propósitos, de momento nos enfocaremos en 2:\n",
    "\n",
    "**numpy**: Entrega soporte para arreglos y matrices en varias dimensiones junto con funciones matemáticas.\n",
    "\n",
    "**matplotlib**: Para graficar nuestros resultados\n",
    "\n",
    "para poder utilizar los **objetos** y sus **métodos** de las librerías, simplemente tenemos que **importarlas** a nuestro código"
   ]
  },
  {
   "cell_type": "code",
   "execution_count": null,
   "id": "43e62908-e917-45c3-9e66-c789949b8669",
   "metadata": {},
   "outputs": [],
   "source": [
    "import numpy"
   ]
  },
  {
   "cell_type": "code",
   "execution_count": null,
   "id": "c0ff89fe-9f47-4184-870b-7f47cf28fca4",
   "metadata": {},
   "outputs": [],
   "source": [
    "a = numpy.array([0,1,2,10])\n",
    "print(type(a))"
   ]
  },
  {
   "cell_type": "code",
   "execution_count": null,
   "id": "f16addd9-6d42-4e4c-a28e-bb1c5c5dfb50",
   "metadata": {},
   "outputs": [],
   "source": [
    "x = numpy.linspace(0,100,101,dtype=int)\n",
    "print(x)"
   ]
  },
  {
   "cell_type": "markdown",
   "id": "c06a76e9-0a36-4388-8efb-c8413fa69bbc",
   "metadata": {},
   "source": [
    "Si tenemos alguna duda respecto a alguna función de la librería, podemos consultar la documentación rápidamente como sigue"
   ]
  },
  {
   "cell_type": "code",
   "execution_count": null,
   "id": "84f2e96e-1bea-4f32-b2e8-3aa1b8cf5ada",
   "metadata": {},
   "outputs": [],
   "source": [
    "?numpy.linspace"
   ]
  },
  {
   "cell_type": "markdown",
   "id": "b411c619-5199-487f-9212-abaa37fa9d8d",
   "metadata": {},
   "source": [
    "La librería ```Matplotlib``` puede resultar un tanto pesada y solo la queremos para hacer gráficos sencillos, por lo que en lugar de importarla completa importaremos los submódulos necesarios"
   ]
  },
  {
   "cell_type": "code",
   "execution_count": null,
   "id": "f862440a-d07f-4e07-86c3-df6709a26e1e",
   "metadata": {},
   "outputs": [],
   "source": [
    "from matplotlib import pyplot"
   ]
  },
  {
   "cell_type": "markdown",
   "id": "dbd5451e-81b0-4302-a0d2-54b5cdb9ab51",
   "metadata": {},
   "source": [
    "Para más información, pueden revisar la documentación oficial de estas librerías:\n",
    "\n",
    "https://numpy.org/doc/2.2/reference/index.html#reference\n",
    "\n",
    "https://matplotlib.org/stable/api/index.html"
   ]
  },
  {
   "cell_type": "markdown",
   "id": "21720055-151f-48d5-8eb9-7d65995455b2",
   "metadata": {},
   "source": [
    "### 1.5.- Definición de funciones"
   ]
  },
  {
   "cell_type": "markdown",
   "id": "d2343871-3c46-455d-905b-a2eae19ce67f",
   "metadata": {},
   "source": [
    "El último punto que es importante repasar es la creación de funciones definidas por el usuario en Python, para esto utilizaremos las palabras reservadas **def** y **return**.\n",
    "\n",
    "Veamos en un ejemplo cómo podríamos crear una función para calcular el factorial de un número. Sabemos que el factorial de un número $x$ es la multiplicación de todos los números naturales inferiores a $x$\n",
    "\n",
    "<center> $\\Gamma(x) = \\prod_{i=1}^{x} i$ </center>"
   ]
  },
  {
   "cell_type": "code",
   "execution_count": null,
   "id": "331dded0-8f36-4c93-b1ae-306e323bf516",
   "metadata": {},
   "outputs": [],
   "source": [
    "def factorial(x_):\n",
    "    gamma = 1\n",
    "    for i in range(1,x_+1):\n",
    "        gamma=gamma*i\n",
    "    return gamma"
   ]
  },
  {
   "cell_type": "code",
   "execution_count": null,
   "id": "7d7babca-de82-4bd6-95f2-aa68b59708f6",
   "metadata": {},
   "outputs": [],
   "source": [
    "factorial(4)"
   ]
  },
  {
   "cell_type": "markdown",
   "id": "4a5eb196-5214-4df8-883b-7290ea878324",
   "metadata": {},
   "source": [
    "¿Qué pasa con el factorial de $0$ o si intento evaluar la función factorial en un número negativo?\n",
    "\n",
    "Necesitamos modificar nuestra función para que maneje de forma apropiada estos casos específicos:\n",
    "\n",
    "1.- Evalué si el argumento de la función es mayor que 0\n",
    "\n",
    "2.- Entregue una advertencia si el argumento ingresado es negativo y retorne ```NaN```"
   ]
  },
  {
   "cell_type": "code",
   "execution_count": null,
   "id": "f7573313-6f6a-456d-8b2e-6815b8ad0706",
   "metadata": {},
   "outputs": [],
   "source": [
    "def factorial(x_):\n",
    "    # verificar si x_ es mayor que 0\n",
    "        gamma = 1\n",
    "        for i in range(1,x_+1):\n",
    "            gamma=gamma*i\n",
    "        return gamma\n",
    "    # que ocurre si x_<0\n",
    "        return numpy.nan    \n",
    "    #"
   ]
  },
  {
   "cell_type": "markdown",
   "id": "7bf862b3-85b5-4ef4-b448-0b306292c476",
   "metadata": {},
   "source": [
    "Veamos cómo podemos graficar nuestra función utilizando la librería Matplotlib, para ello crearemos un listado de puntos $x$ en los cuales evaluaremos la función factorial, para luego graficar estos pares ordenados sobre el plano $x-y$"
   ]
  },
  {
   "cell_type": "code",
   "execution_count": null,
   "id": "5cc38bde-65be-4317-8d6b-c693f5efd63c",
   "metadata": {},
   "outputs": [],
   "source": [
    "import numpy\n",
    "from matplotlib import pyplot\n",
    "x = numpy.linspace(0,10,11)\n",
    "y = numpy.zeros_like(x)\n",
    "for i in range(len(x)):\n",
    "    y[i] = factorial(int(x[i]))\n",
    "\n",
    "pyplot.plot(x,y)\n",
    "pyplot.show()"
   ]
  },
  {
   "cell_type": "markdown",
   "id": "41321f91-b8a1-462c-84b6-696ceebc191d",
   "metadata": {},
   "source": [
    "Ordenemos un poco el gráfico. Como vemos, el factorial es una expresión que crece rápidamente, por lo que es más apropiado graficar el eje $y$ en escala logarítmica. Además, nuestra función está definida solo para números enteros, por lo que no es correcto graficar los datos unidos por una recta. Para graficar los pares ordenados como puntos en el gráfico utilizaremos el comando ```pyplot.scatter```.\n",
    "\n",
    "Agreguemos también la cuadrícula para mayor claridad y nombres a los ejes."
   ]
  },
  {
   "cell_type": "code",
   "execution_count": null,
   "id": "f12bdfea-4690-4daa-bba5-aa91497c4f7f",
   "metadata": {},
   "outputs": [],
   "source": [
    "import numpy\n",
    "from matplotlib import pyplot\n",
    "x = numpy.linspace(0,10,11)\n",
    "y = numpy.zeros_like(x)\n",
    "for i in range(len(x)):\n",
    "    y[i] = factorial(int(x[i]))\n",
    "\n",
    "pyplot.scatter(x,y,label=r'$\\Gamma(x)$')\n",
    "pyplot.yscale('log')\n",
    "pyplot.grid()\n",
    "pyplot.xlabel('x')\n",
    "pyplot.ylabel('y')\n",
    "pyplot.legend(loc='best')\n",
    "pyplot.show()"
   ]
  },
  {
   "cell_type": "markdown",
   "id": "292e4413-f7ac-4cda-8a32-f1e3e7a8b2c4",
   "metadata": {},
   "source": [
    "## 2.- Ejercicio"
   ]
  },
  {
   "cell_type": "markdown",
   "id": "717764c2-8015-42d1-b784-105758eeb08c",
   "metadata": {},
   "source": [
    "Con todo lo repasado en este documento, ya estamos en condiciones de realizar unos ejercicios básicos. Para ello, vamos a programar distintos algoritmos para aproximar los dígitos de $\\pi$."
   ]
  },
  {
   "cell_type": "markdown",
   "id": "dafef043-f94b-4a9d-baa7-888e59dfad00",
   "metadata": {},
   "source": [
    "### 2.1.- Madhava–Leibniz \n",
    "Comencemos con una fórmula sencilla: la serie Madhava–Leibniz, basada en la fórmula $\\frac{\\pi}{4} = arctan(1)$\n",
    "<center> $ \\pi = 4 \\left( \\sum_{k=0}^{\\infty} \\frac{(-1)^k}{2k+1} \\right)$ </center>\n",
    "Defina una función que aproxime $\\pi$ y que tome como argumento la cantidad de términos a considerar en la sumatoria"
   ]
  },
  {
   "cell_type": "code",
   "execution_count": null,
   "id": "3f74c101-04d3-4c7e-bcea-32e571986408",
   "metadata": {},
   "outputs": [],
   "source": [
    "### def MadhavaLeibniz(x_):\n",
    "###     return pi"
   ]
  },
  {
   "cell_type": "markdown",
   "id": "ed8e636a-7a5f-4a43-8787-68a2065d002c",
   "metadata": {},
   "source": [
    "### 2.2.- Producto de Wallis\n",
    "<center> $\\frac{\\pi}{2} = \\prod_{n=1}^{\\infty} \\frac{4n^2}{4n^2-1}$ </center>\n",
    "Defina una función que aproxime $\\pi$ y que tome como argumento la cantidad de términos a considerar en la productoria"
   ]
  },
  {
   "cell_type": "code",
   "execution_count": null,
   "id": "317c5695-b8d8-42a5-8bed-ec71509a6ab9",
   "metadata": {},
   "outputs": [],
   "source": [
    "### def Wallis(x_):\n",
    "###     return pi"
   ]
  },
  {
   "cell_type": "markdown",
   "id": "1f066fb7-7879-4e0b-b2e3-c739dac07ad1",
   "metadata": {},
   "source": [
    "### 2.3.- Srinivasa Ramanujan"
   ]
  },
  {
   "cell_type": "markdown",
   "id": "bcc333f2-9a9c-4ae2-9ee7-b5ee117907f9",
   "metadata": {},
   "source": [
    "<center> $\\frac{1}{\\pi} = \\frac{2\\sqrt{2}}{9801} \\sum_{k=0}^{\\infty} \\frac{(4k)!(1103+26390k)}{{k!}^{4}396^{4k}}$ </center>\n",
    "Defina una función que aproxime $\\pi$ y que tome como argumento la cantidad de términos a considerar en la sumatoria"
   ]
  },
  {
   "cell_type": "markdown",
   "id": "d7a79628-9175-480f-aec6-3cf4ac850804",
   "metadata": {},
   "source": [
    "### 2.4.- Monte Carlo"
   ]
  },
  {
   "cell_type": "markdown",
   "id": "e94cbe42-4d53-4ba3-ab74-feb8ef6100c5",
   "metadata": {},
   "source": [
    "Otra alternativa para calcular dígitos de $\\pi$ fuera de las series es realizar una simulación con el método de Monte Carlo. Consideremos un cuadrado de lado $1$ con un vértice en el origen $(0,0)$ y un cuarto de círculo de radio $r=1$ centrado en el origen. Esta simulación se basa en generar aleatoriamente pares ordenados de números entre $0$ y $1$ y contar cuantos de estos puntos caen dentro del área del círculo y cuantos por fuera. \n",
    "\n",
    "![image](https://help.ovhcloud.com/public_cloud-data_analytics-data_processing-40_tutorial_calculate_pi-images-monte_carlo_graph.png) "
   ]
  },
  {
   "cell_type": "markdown",
   "id": "ce5d30d3-9b47-42c7-82af-0f06720cb196",
   "metadata": {},
   "source": [
    "La probabilidad de que un punto caiga o no dentro del círculo es igual a la razón entre las áreas del círculo y del cuadrado \n",
    "\n",
    "<center>\n",
    "$\\mathcal{P} = \\frac{\\pi}{4} = \\frac{\\text{\\# Puntos dentro del círculo}}{\\text{\\# Puntos totales}}$\n",
    "</center>\n",
    "\n",
    "Defina una función que aproxime $\\pi$ y que tome como argumento la cantidad de puntos aleatorios generados en la simulación"
   ]
  },
  {
   "cell_type": "code",
   "execution_count": null,
   "id": "53db8ecf-96c6-40ca-9a55-e5ee705fcf4a",
   "metadata": {},
   "outputs": [],
   "source": [
    "### def MonteCarlo(x_):\n",
    "###     return pi"
   ]
  },
  {
   "cell_type": "markdown",
   "id": "8ac805eb-ee06-48ea-8e87-43a709499cc0",
   "metadata": {},
   "source": [
    "### 2.5 Estimación del error"
   ]
  },
  {
   "cell_type": "markdown",
   "id": "bad8363f-903a-4bbc-ad19-abfb315c339b",
   "metadata": {},
   "source": [
    "Utilizando la fórmula del error vista en clases, defina una función que estime el error cometido por los distintos métodos en función del argumento de cada método.\n",
    "\n",
    "Realice un gráfico en escala logarítmica del error en función del argumento para poder comparar los algoritmos."
   ]
  },
  {
   "cell_type": "code",
   "execution_count": null,
   "id": "b8628c65-6062-4586-b7ef-b980aa045c41",
   "metadata": {},
   "outputs": [],
   "source": [
    "from decimal import Decimal\n",
    "pi = Decimal('3.1415926535897932384626433832795028841971693993751058209749445923078164062862089986280348253421170679')\n",
    "print(f'{pi:.100f}')"
   ]
  },
  {
   "cell_type": "code",
   "execution_count": null,
   "id": "255a3826-a593-4b9f-b785-26695b155df2",
   "metadata": {},
   "outputs": [],
   "source": [
    "### def error(x_,approx_):\n",
    "###    return e"
   ]
  },
  {
   "cell_type": "code",
   "execution_count": null,
   "id": "503ff00d-4c08-49d3-98e3-336a98a30a5b",
   "metadata": {},
   "outputs": [],
   "source": [
    "### Grafico"
   ]
  }
 ],
 "metadata": {
  "kernelspec": {
   "display_name": "Python 3 (ipykernel)",
   "language": "python",
   "name": "python3"
  },
  "language_info": {
   "codemirror_mode": {
    "name": "ipython",
    "version": 3
   },
   "file_extension": ".py",
   "mimetype": "text/x-python",
   "name": "python",
   "nbconvert_exporter": "python",
   "pygments_lexer": "ipython3",
   "version": "3.13.2"
  }
 },
 "nbformat": 4,
 "nbformat_minor": 5
}
