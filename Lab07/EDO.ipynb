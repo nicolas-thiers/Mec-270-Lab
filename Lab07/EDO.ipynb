{
 "cells": [
  {
   "cell_type": "markdown",
   "id": "a0b1c2d3",
   "metadata": {},
   "source": [
    "![image](./Images/logo-mecanica.png)"
   ]
  },
  {
   "cell_type": "markdown",
   "id": "ode_intro",
   "metadata": {},
   "source": [
    "# Laboratorio 7: Resolución de Ecuaciones Diferenciales Ordinarias"
   ]
  },
  {
   "cell_type": "markdown",
   "id": "ode_intro_theory",
   "metadata": {},
   "source": [
    "Este notebook repasa los **métodos numéricos** para encontrar soluciones aproximadas a Ecuaciones Diferenciales Ordinarias (EDOs). Se incluye una breve revisión de la teoría y los algoritmos generales de cada método, seguida de ejercicios prácticos."
   ]
  },
  {
   "cell_type": "markdown",
   "id": "ode_theory_review",
   "metadata": {},
   "source": [
    "## 1. Repaso de la teoría"
   ]
  },
  {
   "cell_type": "markdown",
   "id": "ode_general_problem",
   "metadata": {},
   "source": [
    "**Problema General:** La gran mayoría de los problemas de ingeniería involucran ecuaciones diferenciales. Las leyes que rigen el comportamiento de los sistemas físicos se suelen expresar mediante ecuaciones diferenciales. La dificultad para resolver estas ecuaciones depende de su naturaleza (lineales o no lineales), el número de variables independientes, y las condiciones a la frontera. Pueden involucrar derivadas parciales, ordinarias, mixtas, etc.\n",
    "\n",
    "Si bien existen soluciones analíticas para algunos casos, **para la mayoría de los problemas se utilizan métodos numéricos** que permiten aproximar la solución de manera eficiente.\n",
    "\n",
    "**Ecuación Diferencial Ordinaria (EDO):** Una ecuación que relaciona una función desconocida $y$ con sus derivadas respecto a una **sola variable independiente**. Su forma general es $F(x, y, \\frac{dy}{dx}, \\frac{d^2y}{dx^2}, ..., \\frac{d^ny}{dx^n}) = 0$. Se define el **orden** de una EDO como el mayor orden de derivada presente. Vamos a requerir que la ecuación diferencial **tenga** una solución y que, además, esta sea **única**. Para ello es necesario complementar el problema mediante **condiciones de frontera** y requeriremos tantas de estas como el **orden** de la EDO.\n",
    "\n",
    "**Problema de Valor Inicial (PVI) o Problema de Cauchy:** Es un tipo de problema asociado a una EDO donde se especifica el valor de la función y, posiblemente, sus derivadas en un punto inicial $x_0$. Un PVI de primer orden tiene la forma:\n",
    "\n",
    "$$ \\frac{dy}{dx} = f(x, y) $$\n",
    "$$  y(x_0) = y_0 $$\n",
    "\n",
    "Una **solución** es una función $y(x)$ que satisface la EDO y cumple con la condición inicial $y(x_0) = y_0$. \n",
    "\n",
    "Resolver un problema de Cauchy es equivalente a integrar la función $f(x, y)$ desde el punto inicial $x_0$ hasta el punto $x$: $y(x) = y_0 + \\int_{x_0}^x f(\\tau, y(\\tau))d\\tau$.\n",
    "\n",
    "Consideraremos exclusivamente EDOs de primer orden, ya que las ecuaciones de orden superior pueden ser reducidas a un sistema de EDOs de primer orden. Por ejemplo, la Segunda Ley de Newton $m \\frac{d^2y}{dt^2} = F(y, \\frac{dy}{dt})$ se puede reescribir como un sistema de dos EDOs de primer orden acopladas: $$\\frac{dy}{dt} = v$$ $$m \\frac{dv}{dt} = F(y, v)$$.\n",
    "\n",
    "Los métodos de resolución que revisaremos incluyen: Método de Euler Explícito, Método de Euler Implícito, Método de Crank-Nicolson, y Métodos de Runge-Kutta."
   ]
  },
  {
   "cell_type": "markdown",
   "id": "euler_explicit",
   "metadata": {},
   "source": [
    "### 1.1 Método de Euler Explícito"
   ]
  },
  {
   "cell_type": "markdown",
   "id": "euler_explicit_theory",
   "metadata": {},
   "source": [
    "El método de Euler Explícito se basa en la aproximación de la integral en la solución del PVI ($y(x) = y_0 + \\int_{x_0}^x f(\\tau, y(\\tau))d\\tau$) dividiendo el intervalo $[x_0, x]$ en $N$ subintervalos y aproximando la integral en cada subintervalo mediante **sumas por izquierda**.\n",
    "$$ \\int_{x_i}^{x_{i+1}} f(\\tau, y(\\tau))d\\tau \\approx f(x_i, y_i)\\Delta x $$\n",
    "Esto lleva a la fórmula iterativa:\n",
    "$$ y_{i+1} = y_i + f(x_i, y_i)\\Delta x $$\n",
    "\n",
    "**Algoritmo General:**\n",
    "\n",
    "```python\n",
    "Algorithm 1 Método de Euler Explícito\n",
    "1: Input: x0, y0, f(x, y), ∆x, xfinal\n",
    "2: i ← 0\n",
    "3: while xi < xfinal do\n",
    "4:     yi+1 ← yi + f(xi, yi)∆xi\n",
    "5:     xi+1 ← xi + ∆xi\n",
    "6:     i ← i + 1\n",
    "7: end while\n",
    "8: Output: y\n",
    "```"
   ]
  },
  {
   "cell_type": "code",
   "execution_count": null,
   "id": "1d0f3627-d833-4479-92fb-b98b5b416d08",
   "metadata": {},
   "outputs": [],
   "source": [
    "### def eulerExplicito(x0_,y0_,f_,dx_,xFin_):\n",
    "###     return"
   ]
  },
  {
   "cell_type": "markdown",
   "id": "euler_implicit",
   "metadata": {},
   "source": [
    "### 1.2 Método de Euler Implícito"
   ]
  },
  {
   "cell_type": "markdown",
   "id": "euler_implicit_theory",
   "metadata": {},
   "source": [
    "Similar al método explícito, el método de Euler Implícito aproxima la integral ($y(x) = y_0 + \\int_{x_0}^x f(\\tau, y(\\tau))d\\tau$) usando la división del intervalo, pero esta vez mediante **sumas por derecha**.\n",
    "$$ \\int_{x_i}^{x_{i+1}} f(\\tau, y(\\tau))d\\tau \\approx f(x_{i+1}, y_{i+1})\\Delta x $$\n",
    "Esto resulta en la fórmula iterativa, donde $y_{i+1}$ aparece en el lado derecho de la ecuación (de ahí el término 'implícito'):\n",
    "$$ y_{i+1} = y_i + f(x_{i+1}, y_{i+1})\\Delta x $$\n",
    "\n",
    "**Algoritmo General:** Note que en cada paso se debe resolver para $y_{i+1}$, lo que puede implicar resolver una ecuación no lineal.\n",
    "\n",
    "```python\n",
    "Algorithm 2 Método de Euler Implícito\n",
    "1: Input: x0, y0, f(x, y), ∆x, xfinal\n",
    "2: i ← 0\n",
    "3: while xi < xfinal do\n",
    "4:     Solve (yi+1 = yi + f(xi+1, yi+1)∆xi) for yi+1\n",
    "5:     xi+1 ← xi + ∆xi\n",
    "6:     i ← i + 1\n",
    "7: end while\n",
    "8: Output: y\n",
    "```"
   ]
  },
  {
   "cell_type": "code",
   "execution_count": null,
   "id": "0cea8093-42f5-44f6-9276-87871073c892",
   "metadata": {},
   "outputs": [],
   "source": [
    "### def eulerImplicito(x0_,y0_,f_,dx_,xFin_):\n",
    "###     return"
   ]
  },
  {
   "cell_type": "markdown",
   "id": "crank_nicolson",
   "metadata": {},
   "source": [
    "### 1.3 Método de Crank-Nicolson"
   ]
  },
  {
   "cell_type": "markdown",
   "id": "crank_nicolson_theory",
   "metadata": {},
   "source": [
    "El método de Crank-Nicolson también se basa en la integral ($y(x) = y_0 + \\int_{x_0}^x f(\\tau, y(\\tau))d\\tau$), dividiendo el intervalo, pero utiliza la **regla del punto medio (o del trapecio)** para aproximar la integral en cada subintervalo.\n",
    "$$ \\int_{x_i}^{x_{i+1}} f(\\tau, y(\\tau))d\\tau \\approx \\frac{f(x_i, y_i) + f(x_{i+1}, y_{i+1})}{2}\\Delta x $$\n",
    "La fórmula iterativa es:\n",
    "$$ y_{i+1} = y_i + \\frac{f(x_i, y_i) + f(x_{i+1}, y_{i+1})}{2}\\Delta x $$\n",
    "\n",
    "**Algoritmo General:** Similar al método de Euler Implícito, requiere resolver una ecuación (potencialmente no lineal) en cada paso para encontrar $y_{i+1}$.\n",
    "\n",
    "```python\n",
    "Algorithm 3 Método de Crank-Nicolson\n",
    "1: Input: x0, y0, f(x, y), ∆x, xfinal\n",
    "2: i ← 0\n",
    "3: while xi < xfinal do\n",
    "4:     Solve (yi+1 = yi + (f(xi, yi) + f(xi+1, yi+1))/2 * ∆xi) for yi+1\n",
    "5:     xi+1 ← xi + ∆xi\n",
    "6:     i ← i + 1\n",
    "7: end while\n",
    "8: Output: y\n",
    "```"
   ]
  },
  {
   "cell_type": "code",
   "execution_count": null,
   "id": "7f18e2d3-b72f-48ae-89a9-8b44947d6254",
   "metadata": {},
   "outputs": [],
   "source": [
    "### def crankNicolson(x0_,y0_,f_,dx_,xFin_):\n",
    "###     return"
   ]
  },
  {
   "cell_type": "markdown",
   "id": "runge_kutta",
   "metadata": {},
   "source": [
    "### 1.4 Métodos de Runge-Kutta (RK4)"
   ]
  },
  {
   "cell_type": "markdown",
   "id": "runge_kutta_theory",
   "metadata": {},
   "source": [
    "Los métodos de Runge-Kutta forman una familia de métodos del tipo **Predictor-Corrector**. Se basan en la idea de predecir una solución y luego corregirla para mejorar la aproximación. La cantidad de etapas de corrección determina el orden de convergencia del método. Son generalmente métodos explícitos.\n",
    "Los métodos más comunes son Runge-Kutta de 2do orden (RK2), similar al Método de Heun, con 1 etapa de predicción y 1 de corrección, y Runge-Kutta de 4to orden (RK4), con 1 etapa de predicción y 3 etapas de corrección. Nos centraremos en RK4.\n",
    "\n",
    "El método RK4 aproxima la integral en cada subintervalo mediante un esquema predictor-corrector que involucra el cálculo de cuatro pendientes (`k1`, `k2`, `k3`, `k4`) dentro del intervalo $[x_i, x_{i+1}]$:\n",
    "$$ k_1 = f(x_i, y_i) $$\n",
    "$$ k_2 = f\\left( x_i + \\frac{\\Delta x}{2}, y_i + \\frac{k_1\\Delta x}{2} \\right) $$\n",
    "$$ k_3 = f\\left( x_i + \\frac{\\Delta x}{2}, y_i + \\frac{k_2\\Delta x}{2} \\right) $$\n",
    "$$ k_4 = f(x_{i+1}, y_i + k_3\\Delta x) $$\n",
    "La aproximación de la integral en el intervalo es un promedio ponderado de estas pendientes. La fórmula de actualización para $y_{i+1}$ es:\n",
    "$$ y_{i+1} = y_i + \\frac{k_1 + 2k_2 + 2k_3 + k_4}{6}\\Delta x $$\n",
    "\n",
    "**Algoritmo General:**\n",
    "```python\n",
    "Algorithm 5 Método de Runge-Kutta de 4to orden (RK4)\n",
    "1: Input: x0, y0, f(x, y), ∆x, xfinal\n",
    "2: i ← 0\n",
    "3: while xi < xfinal do\n",
    "4:     k1 ← f(xi, yi)\n",
    "5:     k2 ← f(xi + ∆x/2, yi + k1*∆x/2)\n",
    "6:     k3 ← f(xi + ∆x/2, yi + k2*∆x/2)\n",
    "7:     k4 ← f(xi + ∆x, yi + k3*∆x) # Note: x_{i+1} = x_i + ∆x\n",
    "8:     yi+1 ← yi + (k1 + 2*k2 + 2*k3 + k4)*∆x/6\n",
    "9:     xi+1 ← xi + ∆x\n",
    "10:    i ← i + 1\n",
    "11: end while\n",
    "12: Output: y\n",
    "```"
   ]
  },
  {
   "cell_type": "code",
   "execution_count": 1,
   "id": "88c2aec5-337b-4d77-8e53-78e9a413274b",
   "metadata": {},
   "outputs": [],
   "source": [
    "### def RK4(x0_,y0_,f_,dx_,xFin_):\n",
    "###     return"
   ]
  },
  {
   "cell_type": "markdown",
   "id": "ode_exercise",
   "metadata": {},
   "source": [
    "## 2. Ejercicio de Programación"
   ]
  },
  {
   "cell_type": "markdown",
   "id": "ode_exercise_problem",
   "metadata": {},
   "source": [
    "Considere el siguiente Problema de Valor Inicial (PVI):\n",
    "$$ \\frac{dy}{dx} = -2xy $$ $$ y(0) = 1 $$ Esta EDO modela, por ejemplo, una tasa de cambio dependiente tanto de la posición $x$ como del valor de la función $y$ en esa posición. La solución analítica de este PVI es $y(x) = e^{-x^2}$.\n",
    "\n",
    "**Tarea:**\n",
    "\n",
    "1.  Implemente los métodos de Euler Explícito, Euler Implícito, Crank-Nicolson, y Runge-Kutta de 4to orden para resolver este PVI en el intervalo $x \\in [0,5]$.\n",
    "2.  Para los métodos implícitos (Euler Implícito, Crank-Nicolson), deberá resolver la ecuación no lineal para $y_{i+1}$ en cada paso. Puede utilizar un método numérico como el Método de Newton (visto en un laboratorio anterior) o `scipy.optimize.fsolve` en Python.\n",
    "3.  Utilice un tamaño de paso constante $\\Delta x$. Experimente con diferentes tamaños de paso (por ejemplo, $\\Delta x = 0.1, 0.05, 0.01$) para observar el comportamiento de cada método.\n",
    "4.  Grafique las soluciones numéricas obtenidas por cada método y compárelas con la solución analítica $y(x) = e^{-x^2}$.\n",
    "5.  Calcule el error global (por ejemplo, el error en el punto final $x=2$) para cada método y tamaño de paso, y comente sobre la tasa de convergencia observada."
   ]
  },
  {
   "cell_type": "code",
   "execution_count": null,
   "id": "ode_exercise_code",
   "metadata": {},
   "outputs": [],
   "source": [
    "### Alumno"
   ]
  }
 ],
 "metadata": {
  "kernelspec": {
   "display_name": "Python 3 (ipykernel)",
   "language": "python",
   "name": "python3"
  },
  "language_info": {
   "codemirror_mode": {
    "name": "ipython",
    "version": 3
   },
   "file_extension": ".py",
   "mimetype": "text/x-python",
   "name": "python",
   "nbconvert_exporter": "python",
   "pygments_lexer": "ipython3",
   "version": "3.13.3"
  }
 },
 "nbformat": 4,
 "nbformat_minor": 5
}
