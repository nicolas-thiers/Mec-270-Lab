{
 "cells": [
  {
   "cell_type": "markdown",
   "id": "70235975-7602-4e88-ac4c-4725270d36bd",
   "metadata": {},
   "source": [
    "![image](https://mecanica.usm.cl/wp-content/uploads/2021/12/logo-mecanica.png)"
   ]
  },
  {
   "cell_type": "markdown",
   "id": "1e8718eb-3a8e-4b23-a5be-f08fb72ac22b",
   "metadata": {},
   "source": [
    "# Laboratorio 3: Diferenciación e integración numérica"
   ]
  },
  {
   "cell_type": "markdown",
   "id": "235d8978-be43-4b0f-a890-a4fbb2198e0b",
   "metadata": {},
   "source": [
    "## 1.- Repaso de la Teoría"
   ]
  },
  {
   "cell_type": "markdown",
   "id": "1d07bf63-adbf-4cd4-b142-c221cde1354b",
   "metadata": {},
   "source": [
    "En esta sesión de laboratorio, repasaremos los conceptos vistos en clases sobre la diferenciación e integración  numérica a partir de datos discretos.\n",
    "\n",
    "Como vimos en clases y en sesiones pasadas, muchas veces no contamos con la función subyacente que gobierna un fenómeno físico, sino, por el contrario, con una serie discreta de mediciones. Ya sabemos cómo podemos, a partir de estos datos, aproximar esta función mediante una función interpolante, la cual podemos utilizar para interpolar o extrapolar a regiones fuera de los datos de medición. Estamos interesados ahora en poder aproximar no solo los valores de esta función desconocida, sino también su derivada e integral.\n",
    "\n",
    "En este laboratorio, veremos cómo aproximar, a partir de una nube discreta de puntos, la derivada y la integral de una función desconocida en Python.\n",
    "\n",
    "Para ello, comenzaremos repasando algunos conceptos claves de la diferenciación e integración numérica."
   ]
  },
  {
   "cell_type": "markdown",
   "id": "a7bc158c-ee6a-4e5a-b44c-20e670322f2e",
   "metadata": {},
   "source": [
    "### 1.1.- Diferenciación numérica"
   ]
  },
  {
   "cell_type": "markdown",
   "id": "503ff00d-4c08-49d3-98e3-336a98a30a5b",
   "metadata": {},
   "source": [
    "Supongamos que contamos con un listado '$n$' mediciones de una variable $(y_{1}, y_{2}, y_{3}, \\dots, y_{n})$ muestreadas en los puntos $(x_{1}, x_{2}, x_{3}, \\dots, x_{n})$ al interior del intervalo $[a,b]$.\n",
    "\n",
    "<p align=\"center\">\n",
    "  <img src=\"./Images/scatter.svg\" />\n",
    "</p>\n",
    "\n",
    "\n",
    "Podemos utilizar la expansión de una función en su serie de Taylor para aproximar el valor numérico de la derivada de la función a partir de datos discretos. La expansión de Taylor de una función $f(x)$ alrededor de un punto $x_{0}$ es:\n",
    "\n",
    "\\begin{eqnarray}\n",
    "f(x) &=& f(x_{0}) + f'(x_{0})(x-x_{0}) + \\frac{f''(x_{0})}{2!}(x-x_{0})^{2} + \\frac{f'''(x_{0})}{3!}(x-x_{0})^{3} + \\dots \\\\ \n",
    "f(x) &=& f(x_{0}) + f'(x_{0})(x-x_{0}) + \\frac{f''(\\theta)}{2!}(x-x_{0})^{2} + O(h^{3})\n",
    "\\end{eqnarray}\n",
    "\n",
    "Despejando de la expansión, obtenemos la fórmula para aproximar la derivada de $f$:\n",
    "\n",
    "\\begin{equation}\n",
    "f'\\left(x_{0}\\right) = \\frac{f(x)-f(x_{0})}{x-x_{0}}\n",
    "\\end{equation}\n",
    "\n",
    "Evaluando la función en un punto $x_{i}$ y en un punto cercano $x_{i\\pm 1}$ obtenemos las fórmulas vistas en clases para la aproximación ***forward*** y ***backward***\n",
    "\\begin{eqnarray}\n",
    "f'\\left(x_{i}\\right) = \\frac{f(x_{i+1})-f(x_{i1})}{x_{i+1}-x_{i}} + O(h)\n",
    "f'\\left(x_{i}\\right) = \\frac{f(x_{i})-f(x_{i-1})}{x_{i}-x_{i-1}} +O(h)\n",
    "\\end{eqnarray}\n",
    "\n",
    "Podemos utilizar las expansiones en serie de Taylor en torno a los puntos $x+h$ y $x-h$ y restarlas para obtener la formula de ***diferencias centradas***\n",
    "\n",
    "\\begin{equation}\n",
    "f'\\left(x_{i}\\right) = \\frac{f(x_{i+1})-f(x_{i-1})}{x_{i+1}-x_{i-1}} + O(h^2)\n",
    "\\end{equation}\n",
    "\n",
    "Incluso podemos utilizar expansiones en serie de Taylor hacia puntos arbitrarios tanto hacia adelante como hacia atrás de forma no simétrica y combinar las expresiones para generar esquemas no simétricas de orden superior.\n",
    "\\begin{equation}\n",
    "f'\\left(x_{i}\\right) = \\frac{3f(x_{i})-4f(x_{i-1})+f(x_{i-2})}{2\\Delta x} + O(h^2)\n",
    "\\end{equation}\n",
    "\n",
    "<p align=\"center\">\n",
    "  <img src=\"./Images/derivatives.svg\" />\n",
    "</p>"
   ]
  },
  {
   "cell_type": "code",
   "execution_count": null,
   "id": "6b2c54ac-2753-4e4a-9598-1f37b612ac0f",
   "metadata": {},
   "outputs": [],
   "source": [
    "### def backward():\n",
    "###     return dfdx\n",
    "###\n",
    "### def forward():\n",
    "###     return dfdx\n",
    "###\n",
    "### def centered():\n",
    "###     return dfdx\n",
    "### \n",
    "### def secondOrderBackward():\n",
    "###     return dfdx"
   ]
  },
  {
   "cell_type": "code",
   "execution_count": null,
   "id": "037a032b-c892-40ce-b4e1-d7dd8976515f",
   "metadata": {},
   "outputs": [],
   "source": [
    "import numpy\n",
    "from matplotlib import pyplot\n",
    "def f(x_):\n",
    "    '''\n",
    "    f(x) = x sin(x)\n",
    "    Inputs:\n",
    "        x_ (array-float)    Coordenada x\n",
    "    returns:\n",
    "        y_ (array-float)    f(x)\n",
    "    '''\n",
    "    y = x_*numpy.sin(x_)\n",
    "    return y\n",
    "### def dfdx(x_):\n",
    "###    '''\n",
    "###    Derivada analitica de la funcion f(x)\n",
    "###    Inputs:\n",
    "###        x_ (array-float)    Coordenada x\n",
    "###    returns:\n",
    "###        y_ (array-float)    df/dx\n",
    "###    '''\n",
    "###    y = ...\n",
    "###    return y\n",
    "\n",
    "x=numpy.linspace(0,10,1000)\n",
    "xDisc=numpy.linspace(0,10,10)\n",
    "\n",
    "pyplot.plot(x,f(x),label=r'$f(x)$',color='k',alpha=0.7)\n",
    "# pyplot.plot(x,dfdx(x),label=r'$\\frac{df}{dx}$',color='r',alpha=0.7)\n",
    "# pyplot.plot(xDisc,backward(),label=r'backward',color='g',alpha=0.7)\n",
    "# pyplot.plot(xDisc,forward(),label=r'forward',color='b',alpha=0.7)\n",
    "# pyplot.plot(xDisc,centered(),label=r'centrada',color='cyan',alpha=0.7)\n",
    "# pyplot.plot(xDisc,secondOrderBackward(),label=r'backward $2^{nd}$ order',color='yellow',alpha=0.7)\n",
    "\n",
    "pyplot.legend(loc='best')\n",
    "pyplot.show()"
   ]
  },
  {
   "cell_type": "code",
   "execution_count": null,
   "id": "9cac1635-9aa3-4b5e-b9fa-f57a7db90a04",
   "metadata": {},
   "outputs": [],
   "source": [
    "### def error(yTeo_,yApp_):\n",
    "###     return error\n",
    "\n",
    "### Grafique en escala logaritmica, el error de cada formula en funcion de la separacion entre los puntos..."
   ]
  },
  {
   "cell_type": "markdown",
   "id": "3afd4557-2f2b-438c-83f7-bdba2b08e322",
   "metadata": {},
   "source": [
    "### 1.2.- Integración numérica"
   ]
  },
  {
   "cell_type": "markdown",
   "id": "4ce22d03-cfe8-4be8-9aa6-c163d591402d",
   "metadata": {},
   "source": [
    "A partir de esta nube de datos discretos medidos sobre la función $f$ desconocida, vimos en clases que es posible aproximar numéricamente el valor de la integral definida de $f$ sobre un dominio $[a,b]$ por medio de ***cuadraturas***\n",
    "\\begin{eqnarray}\n",
    "    I &=& \\int_{a}^{b} f\\left(x\\right)\\, dx \\\\\n",
    "      &\\approx& \\sum_{i=0}^{n-1} w_{i} f\\left(x_{i}\\right)\n",
    "\\end{eqnarray}\n",
    "donde los puntos $x_i$ denominados ***nodos*** corresponden a las coordenadas del dominio donde se muestrea la función $f\\left(x_{i}\\right)$ mientras que los pesos $w_{i}$ corresponden a los coeficientes con los que ***ponderamos*** cada uno de los puntos muestreados.\n",
    "\n",
    "Los pesos de las cuadraturas son determinados al imponer la condición que la cuadratura integre, de forma exacta y de forma ascendente, al mayor número de monomios que conforman la base funcional de los polinomios $\\mathbf{P}$. Si consideramos una cuadratura de $N$ puntos de medición o ***nodos***, podemos escribir un sistema de ecuaciones para los primeros $N$ elementos de la base funcional.\n",
    "\\begin{eqnarray}\n",
    "    \\int_{a}^{b} 1 \\, dx   &=& w_{0} + w_{1} + w_{2} + ... + w_{n-1} = b-a \\nonumber \\\\\n",
    "    \\int_{a}^{b} x \\, dx   &=& w_{0} x_0 + w_{1} x_1 + w_{2} x_2 + ... + w_{n-1} x_{n-1} = \\frac{b^{2}-a^{2}}{2} \\nonumber \\\\\n",
    "    \\int_{a}^{b} x^2 \\, dx &=& w_{0} x_0^2 + w_{1} x_1^2 + w_{2} x_2^2 + ... + w_{n-1} x_{n-1}^2 = \\frac{b^{3}-a^{3}}{3} \\nonumber \\\\\n",
    "                           &\\vdots& \\\\\n",
    "    \\int_{a}^{b} x^{n-1} \\, dx &=& w_{0} x_0^{n-1} + w_{1} x_1^{n-1} + w_{2} x_2^{n-1} + ... + w_{n-1} x_{n-1}^{n-1} = \\frac{b^{n}-a^{n}}{n} \\nonumber\n",
    "\\end{eqnarray}\n",
    "Qué escrito de forma matricial:\n",
    "\\begin{equation}\n",
    "    \\begin{bmatrix}\n",
    "        1 & 1 & 1 & ... & 1 \\\\\n",
    "        x_0 & x_1 & x_2 & ... & x_{n-1} \\\\\n",
    "        x_0^2 & x_1^2 & x_2^2 & ... & x_{n-1}^2 \\\\\n",
    "        \\vdots & \\vdots & \\vdots & \\vdots & \\vdots \\\\\n",
    "        x_0^{n-1} & x_1^{n-1} & x_2^{n-1} & ... & x_{n-1}^{n-1}\n",
    "    \\end{bmatrix}\n",
    "    \\begin{bmatrix}\n",
    "        w_{0} \\\\ w_{1} \\\\ w_{2} \\\\ \\vdots \\\\ w_{n-1}\n",
    "    \\end{bmatrix}\n",
    "    =\n",
    "    \\begin{bmatrix}\n",
    "        b-a \\\\ \\frac{b^{2}-a^{2}}{2} \\\\ \\frac{b^{3}-a^{3}}{3} \\\\ \\vdots \\\\ \\frac{b^{n}-a^{n}}{n}\n",
    "    \\end{bmatrix}\n",
    "\\end{equation}\n",
    "Por medio de esta metodología podemos formular, por ejemplo, las cuadraturas para $1$, $2$ y $3$ nodos ***equidistantes***:\n",
    "- $1$ Nodo:\n",
    "\\begin{equation}\n",
    "    \\int_{a}^{b} f\\left(x\\right) \\, dx \\approx \\left(b-a\\right) f\\left(x_0\\right) \n",
    "\\end{equation}\n",
    "**Nota:** Si el nodo se sitúa al principio del intervalo, obtenemos la cuadratura de sumas por izquierda. Si, por el contrario, fijamos el nodo al final del intervalo, obtenemos la cuadratura de sumas por derecha.\n",
    "- $2$ Nodos: Regla del trapecio\n",
    "\\begin{equation}\n",
    "    \\int_{a}^{b} f\\left(x\\right) \\, dx \\approx \\frac{b-a}{2} f\\left(x_0\\right) + \\frac{b-a}{2} f\\left(x_1\\right)\n",
    "\\end{equation}\n",
    "- $3$ Nodos: Regla de Simpson\n",
    "\\begin{equation}\n",
    "    \\int_{a}^{b} f\\left(x\\right) \\, dx \\approx \\frac{b-a}{6} f\\left(x_0\\right) + 4\\frac{b-a}{6} f\\left(x_1\\right) +  \\frac{b-a}{6} f\\left(x_2\\right)\n",
    "\\end{equation}\n",
    "\n",
    "<p align=\"center\">\n",
    "  <img src=\"./Images/integral.svg\" />\n",
    "</p>"
   ]
  },
  {
   "cell_type": "code",
   "execution_count": null,
   "id": "b054639b-0a8e-4492-84ca-8122413d7eb6",
   "metadata": {},
   "outputs": [],
   "source": [
    "### def intfdx(x_):\n",
    "###    '''\n",
    "###    Integral analitica definida de f(x) entre 0 y x\n",
    "###    Inputs:\n",
    "###        x_ (array-float)    Coordenada x\n",
    "###    returns:\n",
    "###        y_ (array-float)    Integral de f(x)\n",
    "###    '''\n",
    "###    y = ...\n",
    "###    return y\n",
    "###\n",
    "### def sumaIzquierda():\n",
    "###     return intfdx\n",
    "###\n",
    "### def sumaDerecha():\n",
    "###     return intfdx\n",
    "###\n",
    "### def trapecio():\n",
    "###     return intfdx\n",
    "### \n",
    "### def simpson():\n",
    "###     return intfdx\n",
    "###\n",
    "\n",
    "x=numpy.linspace(0,10,1000)\n",
    "xDisc=numpy.linspace(0,10,10)\n",
    "\n",
    "pyplot.plot(x,f(x),label=r'$f(x)$',color='k',alpha=0.7)\n",
    "# pyplot.plot(x,intfdx(x),label=r'$\\int_{0}^{x}f(\\xi)d\\xi$',color='r',alpha=0.7)\n",
    "# pyplot.plot(xDisc,sumaIzquierda(),label=r'Izquierda',color='g',alpha=0.7)\n",
    "# pyplot.plot(xDisc,sumaDerecha(),label=r'Derecha',color='b',alpha=0.7)\n",
    "# pyplot.plot(xDisc,trapecio(),label=r'Trapecio',color='cyan',alpha=0.7)\n",
    "# pyplot.plot(xDisc,simpson(),label=r'Simpson$ order',color='yellow',alpha=0.7)\n",
    "\n",
    "pyplot.legend(loc='best')\n",
    "pyplot.show()\n"
   ]
  },
  {
   "cell_type": "code",
   "execution_count": null,
   "id": "6b2e789d-232f-4606-8cbe-c16cd8cd7aa6",
   "metadata": {},
   "outputs": [],
   "source": [
    "### Grafique en escala logaritmica, el error de cada formula al aproximar la integral definida entre 0 y 10 en funcion de la separacion entre los puntos de los subintervalos"
   ]
  },
  {
   "cell_type": "markdown",
   "id": "f442294a-7309-45e1-bb58-4ceff2d727d8",
   "metadata": {},
   "source": [
    "La construcción de cuadraturas numéricas sobre nodos impuestos de forma arbitraria produce algoritmos subóptimos en cuanto al orden de convergencia de estos. Si, por el contrario, dejamos los nodos y los pesos como parámetros a determinar en la cuadratura, tendremos $2N$ coeficientes indeterminados, lo que nos da la libertad para escribir $2N$ ecuaciones de integración exacta para los monomios de la base funcional. Generando así cuadraturas optimizadas que, por construcción, integran de forma exacta polinomios de hasta grado $2N-1$.\n",
    "\n",
    "Al implementar la metodología empleada para las cuadraturas de nodos determinados, en este caso se traduce en sistemas de ecuaciones no lineales que, en la gran mayoría, no son triviales de resolver. Es por esto que se utiliza una alternativa para la construcción de estas cuadraturas especiales o ***Gaussianas***.\n",
    "\n",
    "Si consideramos un polinomio $\\mathbf{P_{N}}$ y exigimos que este sea ***ortogonal*** con todos los polinomios de grado hasta $N-1$\n",
    "\\begin{equation}\n",
    "    \\int_{a}^{b} g(x)p_{n}(x) x^k \\, dx = 0 \\quad \\forall k=0,1,...,n-1 \\nonumber\n",
    "\\end{equation}\n",
    "Las raíces de dicho polinomio coinciden con los nodos de la cuadratura Gaussiana de $N$ puntos. Una vez determinados estos nodos de la cuadratura, los pesos de la misma se pueden calcular como la integral del respectivo polinomio de interpolación de Lagrange construidos sobre estos nodos.\n",
    "\\begin{equation}\n",
    "    w_{i} = \\int_{a}^{b} L_{i}\\left(x\\right) \\, dx  \\nonumber\n",
    "\\end{equation}"
   ]
  },
  {
   "cell_type": "code",
   "execution_count": null,
   "id": "16787f45-987e-417f-84cb-11ce8c189a21",
   "metadata": {},
   "outputs": [],
   "source": [
    "import numpy\n",
    "from matplotlib import pyplot\n",
    "### def GaussLobatoLegendre():\n",
    "###     return intfdx\n",
    "\n",
    "xi = numpy.array([\n",
    "    [-1.0000000,  0.00000000,  1.00000000],\n",
    "    [-1.0000000, -0.65465367,  0.00000000,  0.65465367,  1.00000000],\n",
    "    [-1.0000000, -0.83022390, -0.46884879,  0.00000000,  0.46884879, 0.83022390, 1.00000000],\n",
    "    [-1.0000000, -0.89975800, -0.67718628, -0.36311746,  0.00000000, 0.36311746, 0.67718628, 0.89975800, 1.00000000],\n",
    "    [-1.0000000, -0.93400143, -0.78448347, -0.56523533, -0.29575814, 0.00000000, 0.29575814, 0.56523533, 0.78448347, 0.93400143, 1.00000000]\n",
    "],dtype=object)\n",
    "wi = numpy.array([\n",
    "    [0.33333333, 1.33333333, 0.33333333],\n",
    "    [0.10000000, 0.54444444, 0.71111111, 0.54444444, 0.10000000],\n",
    "    [0.04761905, 0.27682605, 0.43174538, 0.48761905, 0.43174538, 0.27682605, 0.04761905],\n",
    "    [0.02777778, 0.16549536, 0.27453871, 0.34642851, 0.37151927, 0.34642851, 0.27453871, 0.16549536, 0.02777778],\n",
    "    [0.01818182, 0.10961227, 0.18716988, 0.24804810, 0.28687912, 0.30021760, 0.28687912, 0.24804810, 0.18716988, 0.10961227, 0.01818182]\n",
    "],dtype=object)"
   ]
  },
  {
   "cell_type": "code",
   "execution_count": null,
   "id": "b43fdfe8-768b-4396-8b4c-a0fae2d5c002",
   "metadata": {},
   "outputs": [],
   "source": [
    "### Grafique en escala logaritmica, el error de la cuadratura GLL al aproximar la integral definida entre 0 y 10 para 3, 5, 7, 9 nodos"
   ]
  }
 ],
 "metadata": {
  "kernelspec": {
   "display_name": "Python 3 (ipykernel)",
   "language": "python",
   "name": "python3"
  },
  "language_info": {
   "codemirror_mode": {
    "name": "ipython",
    "version": 3
   },
   "file_extension": ".py",
   "mimetype": "text/x-python",
   "name": "python",
   "nbconvert_exporter": "python",
   "pygments_lexer": "ipython3",
   "version": "3.13.2"
  }
 },
 "nbformat": 4,
 "nbformat_minor": 5
}
