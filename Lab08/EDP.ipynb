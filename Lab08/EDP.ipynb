{
 "cells": [
  {
   "cell_type": "markdown",
   "id": "a0b1c2d3",
   "metadata": {},
   "source": [
    "![image](./Images/logo-mecanica.png)"
   ]
  },
  {
   "cell_type": "markdown",
   "id": "pde_intro",
   "metadata": {},
   "source": [
    "# Laboratorio 8: Resolución de Ecuaciones Diferenciales Parciales"
   ]
  },
  {
   "cell_type": "markdown",
   "id": "pde_intro_theory",
   "metadata": {},
   "source": [
    "Este notebook repasa los **métodos numéricos** para encontrar soluciones aproximadas a Ecuaciones Diferenciales Parciales (EDPs). Se incluye una breve revisión general de la teoría seguida de ejercicios prácticos."
   ]
  },
  {
   "cell_type": "markdown",
   "id": "e257984c-4d6d-4f11-83d8-3f6fcc7d537a",
   "metadata": {},
   "source": [
    "## 1. Repaso de la teoría"
   ]
  },
  {
   "cell_type": "markdown",
   "id": "f722bf4c-c8a6-4269-a616-e2d4008b3b28",
   "metadata": {},
   "source": [
    " **Problema General:** Las Ecuaciones Diferenciales Parciales (EDPs) son de importancia fundamental en la modelación de todo tipo de fenómenos continuos en la naturaleza. Muchas de las leyes básicas de la ciencia se expresan como EDPs. Ejemplos incluyen las ecuaciones de Maxwell (electromagnetismo), las ecuaciones de Navier-Stokes (comportamiento de fluidos), las ecuaciones de elasticidad lineal (vibraciones en sólidos elásticos), la ecuación de Schrödinger (mecánica cuántica), y las ecuaciones de Einstein de la relatividad general.\n",
    "\n",
    "En comparación con las Ecuaciones Diferenciales Ordinarias (EDOs), la situación con las EDPs es más compleja. Esta complejidad se debe, en parte, a que el dominio del problema para una EDP está en dos o más dimensiones, y las condiciones a la frontera pueden ser mucho más irregulares. Aunque la mayoría de los conceptos y métodos aplicables a EDOs se trasladan a las EDPs, la situación es más compleja. Para especificar una solución única para una EDP, es necesario especificar **condiciones iniciales y/o de frontera**.\n",
    "\n",
    " **Ecuación Diferencial Parcial (EDP):** Una ecuación que relaciona una función desconocida $y$ con sus derivadas respecto a **múltiples variables independientes**. Su forma general es \n",
    " $$F(x_1, x_2,..., x_m, y, \\frac{\\partial y}{\\partial x_1},..., \\frac{\\partial^n y}{\\partial x_1^{n_1}... \\partial x_m^{n_m}}) = 0$$\n",
    " El **orden** de una EDP está determinado por el orden más alto de la derivada parcial presente en la ecuación, y se suele caracterizar el orden para cada variable independiente (por ejemplo, una EDP de primer orden en el tiempo y de segundo orden en el espacio). El **grado** de una EDP es el exponente más alto al que se eleva la derivada parcial más alta. Se considerarán principalmente EDPs lineales y de primer o segundo orden.\n",
    "\n",
    " **Clasificación de EDPs de Segundo Orden:** Las EDPs de segundo orden pueden clasificarse en tres tipos principales, análogos a las secciones cónicas, basándose en el valor del discriminante $b^2 - 4ac$ de su forma general lineal $a \\frac{\\partial^2u}{\\partial x^2} + b \\frac{\\partial^2u}{\\partial x\\partial y} + c \\frac{\\partial^2u}{\\partial y^2} +... = 0$\n",
    "\n",
    "*   **Hiperbólicas:** $b^2 - 4ac > 0$. Describen procesos **dependientes del tiempo**, como la ecuación de onda. Propagan información a velocidad finita y son en principio reversibles. Un ejemplo es la Ecuación de Advección ($\\frac{\\partial u}{\\partial t} + c \\frac{\\partial u}{\\partial x} = 0$), cuya solución $u(t, x) = u_0(x - ct)$ representa la función inicial $u_0$ desplazada por $ct$.\n",
    "*   **Parabólicas:** $b^2 - 4ac = 0$. Describen procesos **dependientes del tiempo**, difusivos, o que evolucionan hacia un estado estacionario, como la ecuación del calor. Propagan información instantáneamente y son irreversibles.\n",
    "*   **Elípticas:** $b^2 - 4ac < 0$. Describen sistemas que han alcanzado un estado estacionario o equilibrio, y por lo tanto son **independientes del tiempo**. Un ejemplo es la ecuación de Laplace.\n",
    "\n",
    " **Problemas Dependientes del Tiempo:** Los problemas dependientes del tiempo para EDPs parabólicas e hiperbólicas son análogos a los problemas de valor inicial (PVIs) para EDOs. Típicamente, requieren **condiciones iniciales** y **condiciones de frontera** para especificar una solución única.\n",
    "*   **Ejemplo: Ecuación del Calor (Parabólica)** :\n",
    "      $$\\frac{\\partial u}{\\partial t} = \\Gamma \\frac{\\partial^2 u}{\\partial x^2}$$\n",
    "      Requiere una condición inicial $u(0, x) = f(x)$ y condiciones de frontera (e.g., Dirichlet: $u(t, 0) = \\alpha, u(t, L) = \\beta$).\n",
    "*   **Ejemplo: Ecuación de Onda (Hiperbólica)** :\n",
    "      $$\\frac{\\partial^2u}{\\partial t^2} = c^2 \\frac{\\partial^2u}{\\partial x^2}$$\n",
    "      Es de segundo orden en el tiempo y requiere dos condiciones iniciales ($u(0, x) = f(x)$, $u_t(0, x) = g(x)$) y condiciones de frontera (e.g., Dirichlet).\n",
    "    \n",
    "Las condiciones de frontera comunes incluyen Dirichlet (valor de la función especificado), Neumann (valor de la derivada normal especificado) y Robin (combinación lineal).\n",
    "\n",
    " **Problemas Independientes del Tiempo:** Los problemas independientes del tiempo, asociados a EDPs elípticas, son análogos a los problemas de valor de frontera (BVPs) para EDOs. Un BVP para una EDP elíptica requiere condiciones de frontera en toda la frontera del dominio del problema. La solución no se puede generar paso a paso, sino que debe ser computada simultáneamente en todo el dominio, ya que el dominio de dependencia de la solución en un punto dado depende de todas las condiciones de frontera.\n"
   ]
  },
  {
   "cell_type": "markdown",
   "id": "35bbd9b6-2b13-4d80-a4ce-13ea4c49ee63",
   "metadata": {},
   "source": [
    "### 1.1. Métodos Semidiscretos"
   ]
  },
  {
   "cell_type": "markdown",
   "id": "91114ddc-098f-4fb4-9eed-1882accad75b",
   "metadata": {},
   "source": [
    "Los métodos numéricos para EDPs dependientes del tiempo suelen emplear procedimientos de avance paso a paso en el tiempo, similar a los métodos para PVIs de EDOs. La diferencia clave es la necesidad de discretización espacial además de la temporal.\n",
    "\n",
    "Los **métodos semidiscretos** discretizan las variables espaciales pero dejan la variable temporal continua. Esto resulta en un **sistema de EDOs en el tiempo**. La solución aproximada se obtiene resolviendo este sistema de EDOs, los cuales a menudo son rígidos (stiff). Se pueden utilizar métodos de diferencias finitas, elementos finitos o espectrales para la discretización espacial.\n",
    "\n",
    "**Ejemplo: Ecuación del Calor (Parabólica) en una barra de longitud L** :\n",
    "$$ \\frac{\\partial u}{\\partial t} = \\Gamma \\frac{\\partial^2 u}{\\partial x^2}, \\quad 0 \\leq x \\leq L, \\quad t \\geq 0 $$\n",
    "$$ u(t, x) = f(x), \\quad 0 \\leq x \\leq L, \\quad t = 0 $$\n",
    "Al discretizar el espacio, se obtiene un sistema de problemas de Cauchy de la forma:\n",
    "$$ \\frac{\\partial \\vec{u}}{\\partial t} = \\Gamma A \\vec{u} $$\n",
    "La matriz $A$ es la representación del operador diferencial espacial discretizado (e.g., por diferencias finitas centradas o métodos espectrales). Este sistema se resuelve utilizando métodos para EDOs.\n"
   ]
  },
  {
   "cell_type": "markdown",
   "id": "db4d7661-da7d-4f95-b88e-07b8ca0c5c1f",
   "metadata": {},
   "source": [
    "### 1.2. Métodos Totalmente Discretos"
   ]
  },
  {
   "cell_type": "markdown",
   "id": "pde_theory_review",
   "metadata": {},
   "source": [
    "Los **métodos totalmente discretos** discretizan todas las variables independientes (espacio y tiempo). Reemplazan todas las derivadas parciales por aproximaciones de diferencias finitas en una malla espaciotemporal. Esto produce un sistema de ecuaciones algebraicas en cada paso de tiempo, y se procede paso a paso en el tiempo para generar la solución. La precisión de la solución depende del tamaño del paso tanto en el espacio ($\\Delta x$) como en el tiempo ($\\Delta t$).\n",
    "\n",
    "El procedimiento de avance en el tiempo puede ser **explícito** o **implícito**.\n",
    "\n",
    "*   **Esquemas Explícitos:** Calculan la solución aproximada en el siguiente paso de tiempo utilizando solo valores conocidos del paso de tiempo actual. Son fáciles de implementar, pero a menudo tienen restricciones de estabilidad.\n",
    "    *   **Ejemplo: Método Explícito para la Ecuación del Calor** : Aproxima $\\frac{\\partial u}{\\partial t}$ con diferencia finita hacia adelante y $\\frac{\\partial^2 u}{\\partial x^2}$ con diferencia finita centrada:\n",
    "        $$ \\frac{u_i^{k+1} - u_i^k}{\\Delta t} = \\Gamma \\frac{u_{i+1}^k - 2u_i^k + u_{i-1}^k}{(\\Delta x)^2} $$\n",
    "        Reorganizando, factorizando los terminos y definiendo el numero de Fourier $F_o = \\Gamma \\frac{\\Delta t}{\\Delta x^2}$, se obtiene la recurrencia explícita:\n",
    "        $$ u_i^{k+1} = F_o u_{i-1}^k + (1-2F_o) u_{i}^k + F_o u_{i+1}^k ) $$\n",
    "        Escrito de forma matricial:\n",
    "        $$ \\vec{u}^{k+1} = \\mathbf{B} \\vec{u}^{k} $$\n",
    "        Donde la matriz $\\mathbf{B}$ es\n",
    "        $$\n",
    "          \\begin{bmatrix}\n",
    "              (1-2F_o) &      F_o &        0 &    \\dots &  \\dots &    \\dots &        0 \\\\\n",
    "                   F_o & (1-2F_o) &      F_o &        0 &  \\dots &    \\dots &        0 \\\\\n",
    "                \\vdots &   \\ddots &   \\ddots &   \\ddots &  \\dots &    \\dots &   \\vdots \\\\\n",
    "                     0 &    \\dots &      F_o & (1-2F_o) &    F_o &    \\dots &        0 \\\\\n",
    "                \\vdots &    \\dots &    \\dots &   \\ddots & \\ddots &   \\ddots &   \\vdots \\\\\n",
    "                     0 &    \\dots &    \\dots &        0 &    F_o & (1-2F_o) &      F_o \\\\\n",
    "                     0 &    \\dots &    \\dots &    \\dots &      0 &      F_o &  (1-2F_o)\n",
    "          \\end{bmatrix}\n",
    "        $$\n",
    "        Este esquema es de **primer orden en el tiempo** y de **segundo orden en el espacio**. El cálculo de $u_i^{k+1}$ depende únicamente de los valores en el paso de tiempo actual $k$.\n",
    "    *   **Estabilidad de Métodos Explícitos:** Suelen ser **condicionalmente estables**. Esto significa que requieren que el tamaño del paso temporal $\\Delta t$ sea suficientemente pequeño en relación con el tamaño del paso espacial $\\Delta x$ para garantizar la estabilidad. Para el método explícito de la ecuación del calor, la condición de estabilidad es $\\Delta t \\leq \\frac{(\\Delta x)^2}{2\\Gamma}$. Para EDPs hiperbólicas explícitas, la condición de estabilidad se conoce como la **condición CFL (Courant-Friedrichs-Lewy)**, que establece que el dominio de dependencia del esquema numérico debe contener el dominio de dependencia de la EDP. Para la ecuación de onda explícita, $c \\frac{\\Delta t}{\\Delta x} \\leq 1$.\n",
    "\n",
    "*   **Esquemas Implícitos:** Involucran los valores desconocidos en el siguiente paso de tiempo en la ecuación, requiriendo resolver un sistema de ecuaciones en cada paso de tiempo. Son más complejos de implementar pero suelen ser **incondicionalmente estables**.\n",
    "    *   **Ejemplo: Método Implícito para la Ecuación del Calor** : Aproxima $\\frac{\\partial u}{\\partial t}$ con diferencia finita hacia atrás y $\\frac{\\partial^2 u}{\\partial x^2}$ con diferencia finita centrada en el tiempo $k + 1$:\n",
    "        $$ \\frac{u_i^{k+1} - u_i^k}{\\Delta t} = \\Gamma \\frac{u_{i+1}^{k+1} - 2u_i^{k+1} + u_{i-1}^{k+1}}{(\\Delta x)^2} $$\n",
    "        Reorganizando, factorizando los terminos y definiendo el numero de Fourier $F_o = \\Gamma \\frac{\\Delta t}{\\Delta x^2}$, se obtiene la recurrencia implicita:\n",
    "        $$ - F_o u_{i-1}^{k+1} + (1+2F_o) u_i^{k+1} - F_o u_{i+1}^{k+1} =   u_{i}^k $$\n",
    "        Escrito de forma matricial:\n",
    "        $$ \\mathbf{C} \\vec{u}^{k+1} =  \\vec{u}^{k} $$\n",
    "        Donde la matriz $\\mathbf{C}$ es\n",
    "        $$\n",
    "          \\begin{bmatrix}\n",
    "              (1+2F_o) &     -F_o &        0 &    \\dots &  \\dots &    \\dots &        0 \\\\\n",
    "                  -F_o & (1+2F_o) &     -F_o &        0 &  \\dots &    \\dots &        0 \\\\\n",
    "                \\vdots &   \\ddots &   \\ddots &   \\ddots &  \\dots &    \\dots &   \\vdots \\\\\n",
    "                     0 &    \\dots &     -F_o & (1+2F_o) &   -F_o &    \\dots &        0 \\\\\n",
    "                \\vdots &    \\dots &    \\dots &   \\ddots & \\ddots &   \\ddots &   \\vdots \\\\\n",
    "                     0 &    \\dots &    \\dots &        0 &   -F_o & (1+2F_o) &     -F_o \\\\\n",
    "                     0 &    \\dots &    \\dots &    \\dots &      0 &     -F_o &  (1+2F_o)\n",
    "          \\end{bmatrix}\n",
    "        $$\n",
    "        Este esquema es de **primer orden en el tiempo** y de **segundo orden en el espacio**. El cálculo depende de valores desconocidos en el paso de tiempo $k + 1$ y de valores conocidos en $k$, requiriendo resolver un sistema lineal (o no lineal).\n",
    "    *   **Ejemplo: Método de Crank-Nicolson** : Es un esquema implícito popular que promedia las diferencias finitas centradas evaluadas en el tiempo $k$ y $k + 1$ (equivalente a la regla del trapecio en el tiempo):\n",
    "        $$ \\frac{u_i^{k+1} - u_i^k}{\\Delta t} = \\Gamma \\frac{1}{2} \\left( \\frac{u_{i+1}^k - 2u_i^k + u_{i-1}^k}{(\\Delta x)^2} + \\frac{u_{i+1}^{k+1} - 2u_i^{k+1} + u_{i-1}^{k+1}}{(\\Delta x)^2} \\right) $$\n",
    "        Reorganizando, factorizando los terminos y definiendo el numero de Fourier $F_o = \\Gamma \\frac{\\Delta t}{\\Delta x^2}$, se obtiene la recurencia implicita:\n",
    "        $$ - \\frac{F_o}{2} u_{i-1}^{k+1} + (1+F_o) u_i^{k+1} - \\frac{F_o}{2} u_{i+1}^{k+1} =   \\frac{F_o}{2} u_{i-1}^k + (1-F_o) u_{i}^k + \\frac{F_o}{2} u_{i+1}^k ) $$\n",
    "        Escrito de forma matricial:\n",
    "        $$ \\mathbf{C'} \\vec{u}^{k+1} =  \\mathbf{B'}\\vec{u}^{k} $$\n",
    "        Donde la matrices $\\mathbf{B'}$ y $\\mathbf{C'}$ son las matrices de los metodos de Euler explicito e implicitos modificadas por el factor $\\frac{1}{2}$.\n",
    "        $$\n",
    "          \\mathbf{B'} = \n",
    "          \\begin{bmatrix}\n",
    "              (1-F_o) &     \\frac{F_o}{2} &        0 &    \\dots &  \\dots &    \\dots &        0 \\\\\n",
    "                  \\frac{F_o}{2} & (1-F_o) &     \\frac{F_o}{2} &        0 &  \\dots &    \\dots &        0 \\\\\n",
    "                \\vdots &   \\ddots &   \\ddots &   \\ddots &  \\dots &    \\dots &   \\vdots \\\\\n",
    "                     0 &    \\dots &     \\frac{F_o}{2} & (1-F_o) &   \\frac{F_o}{2} &    \\dots &        0 \\\\\n",
    "                \\vdots &    \\dots &    \\dots &   \\ddots & \\ddots &   \\ddots &   \\vdots \\\\\n",
    "                     0 &    \\dots &    \\dots &        0 &   \\frac{F_o}{2} & (1-F_o) &     \\frac{F_o}{2} \\\\\n",
    "                     0 &    \\dots &    \\dots &    \\dots &      0 &     \\frac{F_o}{2} &  (1-F_o)\n",
    "          \\end{bmatrix}\n",
    "        $$\n",
    "        $$\n",
    "          \\mathbf{C'} = \n",
    "          \\begin{bmatrix}\n",
    "              (1+F_o) &     -\\frac{F_o}{2} &        0 &    \\dots &  \\dots &    \\dots &        0 \\\\\n",
    "                  -\\frac{F_o}{2} & (1+F_o) &     -\\frac{F_o}{2} &        0 &  \\dots &    \\dots &        0 \\\\\n",
    "                \\vdots &   \\ddots &   \\ddots &   \\ddots &  \\dots &    \\dots &   \\vdots \\\\\n",
    "                     0 &    \\dots &     -\\frac{F_o}{2} & (1+F_o) &   -\\frac{F_o}{2} &    \\dots &        0 \\\\\n",
    "                \\vdots &    \\dots &    \\dots &   \\ddots & \\ddots &   \\ddots &   \\vdots \\\\\n",
    "                     0 &    \\dots &    \\dots &        0 &   -\\frac{F_o}{2} & (1+F_o) &     -\\frac{F_o}{2} \\\\\n",
    "                     0 &    \\dots &    \\dots &    \\dots &      0 &     -\\frac{F_o}{2} &  (1+F_o)\n",
    "          \\end{bmatrix}\n",
    "        $$\n",
    "        Este esquema es de **segundo orden en el tiempo** y de **segundo orden en el espacio**. Es **incondicionalmente estable**, lo que permite usar pasos de tiempo más grandes sin perder estabilidad, aunque pasos grandes pueden sacrificar precisión.\n",
    "\n",
    " **Estabilidad General:** La estabilidad numérica es crucial para los métodos de avance en el tiempo. Un método es estable si la aproximación se mantiene acotada en cada punto fijo conforme $\\Delta t \\rightarrow 0$, para cualquier tiempo fijo $t$. La estabilidad, junto con la consistencia (el error de truncamiento local tiende a cero conforme $\\Delta t, \\Delta x \\rightarrow 0$), es una condición suficiente para la convergencia a la solución verdadera de la EDP.\n"
   ]
  },
  {
   "cell_type": "markdown",
   "id": "2077e2dd-94aa-4fe1-8fcf-f52db8d5cc1b",
   "metadata": {},
   "source": [
    "## 2. Ejercicio Propuesto"
   ]
  },
  {
   "cell_type": "markdown",
   "id": "pde_exercise",
   "metadata": {},
   "source": [
    "Considere el siguiente Problema de Valor Inicial y de Frontera para la **Ecuación del Calor unidimensional** en una barra de longitud $L=1$: \n",
    "$$ \\frac{\\partial u}{\\partial t} = \\Gamma \\frac{\\partial^2 u}{\\partial x^2}, \\quad 0 \\leq x \\leq 1, \\quad t \\geq 0 $$\n",
    "Con la siguiente condición inicial:\n",
    "$$ u(0, x) = \\sin(\\pi x), \\quad 0 \\leq x \\leq 1 $$\n",
    "Y condiciones de frontera de Dirichlet:\n",
    "$$ u(t, 0) = 0, \\quad u(t, 1) = 0, \\quad t \\geq 0 $$\n",
    "Para $\\Gamma = 0.1$, la solución analítica de este problema es $u(t, x) = e^{-\\Gamma\\pi^2 t} \\sin(\\pi x)$.\n",
    "\n",
    " **Tarea:** \n",
    "\n",
    "1.  **Implemente** los métodos numéricos **Totalmente Discretos** para la Ecuación del Calor:\n",
    "    *   El método explícito de primer orden en el tiempo y segundo orden en el espacio.\n",
    "    *   El método implícito de primer orden en el tiempo y segundo orden en el espacio.\n",
    "    *   El método de Crank-Nicolson (segundo orden en el tiempo y espacio).\n",
    "    Resuelva este problema en el dominio $x \\in [0,1]$ y tiempo $t \\in [0, 10]$.\n",
    "\n",
    "2.  Para los métodos implícitos (implícito y Crank-Nicolson), deberá resolver un sistema de ecuaciones lineales en cada paso de tiempo. Puede utilizar funciones de librerías como `numpy.linalg.solve` o `scipy.sparse.linalg.spsolve` en Python.\n",
    "\n",
    "3.  **Experimente** con diferentes tamaños de paso espacial $\\Delta x$ (por ejemplo, $\\Delta x = 0.1, 0.05, 0.02$) y temporal $\\Delta t$.\n",
    "    *   Para el método explícito, verifique y demuestre la condición de estabilidad $\\Delta t \\leq \\frac{(\\Delta x)^2}{2\\Gamma}$. Observe qué sucede si esta condición no se cumple.\n",
    "    *   Para los métodos implícitos, observe cómo se comportan con pasos de tiempo más grandes, aprovechando su estabilidad incondicional.\n",
    "\n",
    "4.  **Grafique** las soluciones numéricas obtenidas por cada método en diferentes instantes de tiempo ($t$) y compárelas con la solución analítica.\n",
    "\n",
    "5.  **Calcule el error global** (por ejemplo, el error en la norma L2 en $T_{final}$) para cada método y combinación de tamaños de paso, y **comente** sobre la tasa de convergencia observada y las características de estabilidad para cada método."
   ]
  },
  {
   "cell_type": "code",
   "execution_count": null,
   "id": "pde_exercise_code",
   "metadata": {},
   "outputs": [],
   "source": [
    "### Alumno"
   ]
  }
 ],
 "metadata": {
  "kernelspec": {
   "display_name": "Python 3 (ipykernel)",
   "language": "python",
   "name": "python3"
  },
  "language_info": {
   "codemirror_mode": {
    "name": "ipython",
    "version": 3
   },
   "file_extension": ".py",
   "mimetype": "text/x-python",
   "name": "python",
   "nbconvert_exporter": "python",
   "pygments_lexer": "ipython3",
   "version": "3.13.3"
  }
 },
 "nbformat": 4,
 "nbformat_minor": 5
}
